{
 "cells": [
  {
   "cell_type": "code",
   "execution_count": 12,
   "metadata": {},
   "outputs": [],
   "source": [
    "import torch\n",
    "import torchvision.datasets as datasets\n",
    "import torchvision.transforms as transforms\n",
    "from pathlib import Path\n",
    "import torch.nn as nn\n",
    "import torch.nn.functional as F\n",
    "import numpy as np\n",
    "import os\n",
    "import IPython\n",
    "import matplotlib.pyplot as plt\n",
    "from tqdm import tqdm\n",
    "import h5py\n",
    "import shutil\n"
   ]
  },
  {
   "cell_type": "code",
   "execution_count": 3,
   "metadata": {},
   "outputs": [],
   "source": [
    "# cuda device\n",
    "device = torch.device(\"cuda\" if torch.cuda.is_available() else \"cpu\")"
   ]
  },
  {
   "cell_type": "code",
   "execution_count": 4,
   "metadata": {},
   "outputs": [
    {
     "name": "stderr",
     "output_type": "stream",
     "text": [
      " 12%|█▏        | 7354/60000 [00:00<00:06, 7931.03it/s]\n"
     ]
    },
    {
     "ename": "TypeError",
     "evalue": "int() argument must be a string, a bytes-like object or a number, not 'Image'",
     "output_type": "error",
     "traceback": [
      "\u001b[0;31m---------------------------------------------------------------------------\u001b[0m",
      "\u001b[0;31mTypeError\u001b[0m                                 Traceback (most recent call last)",
      "Cell \u001b[0;32mIn[4], line 28\u001b[0m\n\u001b[1;32m     26\u001b[0m \u001b[39mfor\u001b[39;00m dataset, neg_dataset \u001b[39min\u001b[39;00m [(train_dataset, train_neg_dataset), (test_dataset, test_neg_dataset)]:\n\u001b[1;32m     27\u001b[0m     \u001b[39mfor\u001b[39;00m i \u001b[39min\u001b[39;00m tqdm(\u001b[39mrange\u001b[39m(\u001b[39mlen\u001b[39m(dataset))):\n\u001b[0;32m---> 28\u001b[0m         image, label \u001b[39m=\u001b[39m dataset[i]\n\u001b[1;32m     29\u001b[0m         \u001b[39mif\u001b[39;00m ds_variation \u001b[39m==\u001b[39m \u001b[39m'\u001b[39m\u001b[39mpositive\u001b[39m\u001b[39m'\u001b[39m:\n\u001b[1;32m     30\u001b[0m             one_hot \u001b[39m=\u001b[39m one_hot_encode(label, random\u001b[39m=\u001b[39m\u001b[39mFalse\u001b[39;00m)\n",
      "File \u001b[0;32m~/michaelliang/venv/lib/python3.8/site-packages/torchvision/datasets/mnist.py:145\u001b[0m, in \u001b[0;36mMNIST.__getitem__\u001b[0;34m(self, index)\u001b[0m\n\u001b[1;32m    142\u001b[0m img \u001b[39m=\u001b[39m Image\u001b[39m.\u001b[39mfromarray(img\u001b[39m.\u001b[39mnumpy(), mode\u001b[39m=\u001b[39m\u001b[39m\"\u001b[39m\u001b[39mL\u001b[39m\u001b[39m\"\u001b[39m)\n\u001b[1;32m    144\u001b[0m \u001b[39mif\u001b[39;00m \u001b[39mself\u001b[39m\u001b[39m.\u001b[39mtransform \u001b[39mis\u001b[39;00m \u001b[39mnot\u001b[39;00m \u001b[39mNone\u001b[39;00m:\n\u001b[0;32m--> 145\u001b[0m     img \u001b[39m=\u001b[39m \u001b[39mself\u001b[39;49m\u001b[39m.\u001b[39;49mtransform(img)\n\u001b[1;32m    147\u001b[0m \u001b[39mif\u001b[39;00m \u001b[39mself\u001b[39m\u001b[39m.\u001b[39mtarget_transform \u001b[39mis\u001b[39;00m \u001b[39mnot\u001b[39;00m \u001b[39mNone\u001b[39;00m:\n\u001b[1;32m    148\u001b[0m     target \u001b[39m=\u001b[39m \u001b[39mself\u001b[39m\u001b[39m.\u001b[39mtarget_transform(target)\n",
      "File \u001b[0;32m~/michaelliang/venv/lib/python3.8/site-packages/torchvision/transforms/transforms.py:137\u001b[0m, in \u001b[0;36mToTensor.__call__\u001b[0;34m(self, pic)\u001b[0m\n\u001b[1;32m    129\u001b[0m \u001b[39mdef\u001b[39;00m \u001b[39m__call__\u001b[39m(\u001b[39mself\u001b[39m, pic):\n\u001b[1;32m    130\u001b[0m \u001b[39m    \u001b[39m\u001b[39m\"\"\"\u001b[39;00m\n\u001b[1;32m    131\u001b[0m \u001b[39m    Args:\u001b[39;00m\n\u001b[1;32m    132\u001b[0m \u001b[39m        pic (PIL Image or numpy.ndarray): Image to be converted to tensor.\u001b[39;00m\n\u001b[0;32m   (...)\u001b[0m\n\u001b[1;32m    135\u001b[0m \u001b[39m        Tensor: Converted image.\u001b[39;00m\n\u001b[1;32m    136\u001b[0m \u001b[39m    \"\"\"\u001b[39;00m\n\u001b[0;32m--> 137\u001b[0m     \u001b[39mreturn\u001b[39;00m F\u001b[39m.\u001b[39;49mto_tensor(pic)\n",
      "File \u001b[0;32m~/michaelliang/venv/lib/python3.8/site-packages/torchvision/transforms/functional.py:166\u001b[0m, in \u001b[0;36mto_tensor\u001b[0;34m(pic)\u001b[0m\n\u001b[1;32m    164\u001b[0m \u001b[39m# handle PIL Image\u001b[39;00m\n\u001b[1;32m    165\u001b[0m mode_to_nptype \u001b[39m=\u001b[39m {\u001b[39m\"\u001b[39m\u001b[39mI\u001b[39m\u001b[39m\"\u001b[39m: np\u001b[39m.\u001b[39mint32, \u001b[39m\"\u001b[39m\u001b[39mI;16\u001b[39m\u001b[39m\"\u001b[39m: np\u001b[39m.\u001b[39mint16, \u001b[39m\"\u001b[39m\u001b[39mF\u001b[39m\u001b[39m\"\u001b[39m: np\u001b[39m.\u001b[39mfloat32}\n\u001b[0;32m--> 166\u001b[0m img \u001b[39m=\u001b[39m torch\u001b[39m.\u001b[39mfrom_numpy(np\u001b[39m.\u001b[39;49marray(pic, mode_to_nptype\u001b[39m.\u001b[39;49mget(pic\u001b[39m.\u001b[39;49mmode, np\u001b[39m.\u001b[39;49muint8), copy\u001b[39m=\u001b[39;49m\u001b[39mTrue\u001b[39;49;00m))\n\u001b[1;32m    168\u001b[0m \u001b[39mif\u001b[39;00m pic\u001b[39m.\u001b[39mmode \u001b[39m==\u001b[39m \u001b[39m\"\u001b[39m\u001b[39m1\u001b[39m\u001b[39m\"\u001b[39m:\n\u001b[1;32m    169\u001b[0m     img \u001b[39m=\u001b[39m \u001b[39m255\u001b[39m \u001b[39m*\u001b[39m img\n",
      "\u001b[0;31mTypeError\u001b[0m: int() argument must be a string, a bytes-like object or a number, not 'Image'"
     ]
    }
   ],
   "source": [
    "# Generate the one hot encoded supervised dataset\n",
    "ds_variation = 'negative'\n",
    "output_dir = 'mnist_neg'\n",
    "\n",
    "# make the output directory if it doesn't exist\n",
    "if not os.path.exists(output_dir):\n",
    "    os.makedirs(output_dir)\n",
    "\n",
    "# Define the one-hot encoding function\n",
    "def one_hot_encode(label, num_classes=10, random=False):\n",
    "    one_hot = np.zeros(num_classes)\n",
    "    if not random:\n",
    "        one_hot[label] = 1\n",
    "    else:\n",
    "        one_hot[np.random.randint(0, num_classes)] = 1\n",
    "    return one_hot\n",
    "\n",
    "# Load the MNIST dataset\n",
    "train_dataset = datasets.MNIST(root='data', train=True, download=True, transform=transforms.ToTensor())\n",
    "test_dataset = datasets.MNIST(root='data', train=False, download=True, transform=transforms.ToTensor())\n",
    "\n",
    "# Create new datasets and copy over the data and targets\n",
    "train_neg_dataset = []\n",
    "test_neg_dataset = []\n",
    "\n",
    "for dataset, neg_dataset in [(train_dataset, train_neg_dataset), (test_dataset, test_neg_dataset)]:\n",
    "    for i in tqdm(range(len(dataset))):\n",
    "        image, label = dataset[i]\n",
    "        if ds_variation == 'positive':\n",
    "            one_hot = one_hot_encode(label, random=False)\n",
    "        elif ds_variation == 'negative':\n",
    "            one_hot = one_hot_encode(label, random=True)\n",
    "        # Replace the first 10 values in the image with the one-hot encoding\n",
    "        neg_image = torch.cat((torch.tensor(one_hot), image.view(-1)[10:]))\n",
    "        neg_dataset.append((neg_image, label))\n",
    "\n",
    "train_aug_images, train_aug_labels = zip(*train_neg_dataset)\n",
    "test_aug_images, test_aug_labels = zip(*test_neg_dataset)\n",
    "\n",
    "train_neg_dataset = torch.utils.data.TensorDataset(torch.stack(train_aug_images), torch.tensor(train_aug_labels))\n",
    "test_neg_dataset = torch.utils.data.TensorDataset(torch.stack(test_aug_images), torch.tensor(test_aug_labels))\n",
    "\n",
    "# Save the datasets in hdf5 format\n",
    "dataset_dir = Path(output_dir)\n",
    "train_file = os.path.join(dataset_dir, 'train.hdf5')\n",
    "test_file = os.path.join(dataset_dir, 'test.hdf5')\n",
    "\n",
    "with h5py.File(train_file, 'w') as f:\n",
    "    f.create_dataset('input', data=train_neg_dataset.tensors[0].numpy())\n",
    "    f.create_dataset('target', data=train_neg_dataset.tensors[1].numpy())\n",
    "\n",
    "with h5py.File(test_file, 'w') as f:\n",
    "    f.create_dataset('input', data=test_neg_dataset.tensors[0].numpy())\n",
    "    f.create_dataset('target', data=test_neg_dataset.tensors[1].numpy())"
   ]
  },
  {
   "cell_type": "code",
   "execution_count": null,
   "metadata": {},
   "outputs": [
    {
     "data": {
      "text/plain": [
       "<matplotlib.image.AxesImage at 0x7f9552e35520>"
      ]
     },
     "execution_count": 41,
     "metadata": {},
     "output_type": "execute_result"
    },
    {
     "data": {
      "image/png": "[encoded data removed]",
      "text/plain": [
       "<Figure size 640x480 with 1 Axes>"
      ]
     },
     "metadata": {},
     "output_type": "display_data"
    }
   ],
   "source": [
    "# Plot the first image of the train_aug_dataset with small figure size\n",
    "plt.imshow(train_neg_dataset[0][0].view(28, 28), cmap='gray')"
   ]
  },
  {
   "cell_type": "code",
   "execution_count": null,
   "metadata": {},
   "outputs": [
    {
     "data": {
      "text/plain": [
       "<matplotlib.image.AxesImage at 0x7f95547c74f0>"
      ]
     },
     "execution_count": 36,
     "metadata": {},
     "output_type": "execute_result"
    },
    {
     "data": {
      "image/png": "[encoded data removed]",
      "text/plain": [
       "<Figure size 640x480 with 1 Axes>"
      ]
     },
     "metadata": {},
     "output_type": "display_data"
    }
   ],
   "source": [
    "# Plot the first image of the train_dataset\n",
    "plt.imshow(train_dataset[0][0].view(28, 28), cmap='gray')"
   ]
  },
  {
   "cell_type": "code",
   "execution_count": 17,
   "metadata": {},
   "outputs": [
    {
     "data": {
      "text/plain": [
       "torch.Tensor"
      ]
     },
     "execution_count": 17,
     "metadata": {},
     "output_type": "execute_result"
    }
   ],
   "source": [
    "# Load a HDF5 dataset\n",
    "import h5py\n",
    "\n",
    "def load_hdf5_dataset(file_path):\n",
    "    with h5py.File(file_path, 'r') as f:\n",
    "        input = f['input'][:]\n",
    "        target = f['target'][:]\n",
    "    return input, target\n",
    "\n",
    "# Load the datasets\n",
    "train_input, train_target = load_hdf5_dataset('mnist_pos/train.hdf5')\n",
    "train_neg_input, train_neg_target = load_hdf5_dataset('mnist_neg/train.hdf5')\n",
    "# Load test sets\n",
    "test_input, test_target = load_hdf5_dataset('mnist_pos/test.hdf5')\n",
    "\n",
    "# Move to cuda\n",
    "train_input = torch.tensor(train_input).to(device)\n",
    "train_target = torch.tensor(train_target).to(device)\n",
    "train_neg_input = torch.tensor(train_neg_input).to(device)\n",
    "train_neg_target = torch.tensor(train_neg_target).to(device)\n",
    "test_input = torch.tensor(test_input).to(device)\n",
    "test_target = torch.tensor(test_target).to(device)\n",
    "\n",
    "type(test_input)"
   ]
  },
  {
   "cell_type": "code",
   "execution_count": 26,
   "metadata": {},
   "outputs": [
    {
     "name": "stderr",
     "output_type": "stream",
     "text": [
      "100%|██████████| 937/937 [00:05<00:00, 183.36it/s]\n",
      " 50%|████▉     | 468/937 [00:02<00:02, 186.01it/s]\n"
     ]
    },
    {
     "ename": "KeyboardInterrupt",
     "evalue": "",
     "output_type": "error",
     "traceback": [
      "\u001b[0;31m---------------------------------------------------------------------------\u001b[0m",
      "\u001b[0;31mKeyboardInterrupt\u001b[0m                         Traceback (most recent call last)",
      "File \u001b[0;32m/tmp/ipykernel_37279/3454419692.py:82\u001b[0m\n\u001b[1;32m     79\u001b[0m x_pos \u001b[39m=\u001b[39m x_pos\u001b[39m.\u001b[39mview(batch_size, \u001b[39m-\u001b[39m\u001b[39m1\u001b[39m)\u001b[39m.\u001b[39mfloat()\n\u001b[1;32m     80\u001b[0m x_neg \u001b[39m=\u001b[39m x_neg\u001b[39m.\u001b[39mview(batch_size, \u001b[39m-\u001b[39m\u001b[39m1\u001b[39m)\u001b[39m.\u001b[39mfloat()\n\u001b[0;32m---> 82\u001b[0m _, loss \u001b[39m=\u001b[39m m(x_pos, x_neg)\n\u001b[1;32m     84\u001b[0m \u001b[39m# Every X iters, get the average of the last X iters and evaluate\u001b[39;00m\n\u001b[1;32m     85\u001b[0m \u001b[39m# if iter % 1000 == 0 and iter != 0:\u001b[39;00m\n\u001b[1;32m     86\u001b[0m \u001b[39m#     print(f'Iter {iter}: Loss {loss.item()}')\u001b[39;00m\n\u001b[1;32m     87\u001b[0m \u001b[39m#     # evaluate_model()\u001b[39;00m\n\u001b[1;32m     88\u001b[0m \u001b[39m#     torch.save(m.state_dict(), f'./output/ff_net_{i}_{iter}.pt')\u001b[39;00m\n",
      "File \u001b[0;32m~/michaelliang/venv/lib/python3.8/site-packages/torch/nn/modules/module.py:1501\u001b[0m, in \u001b[0;36mModule._call_impl\u001b[0;34m(self, *args, **kwargs)\u001b[0m\n\u001b[1;32m   1496\u001b[0m \u001b[39m# If we don't have any hooks, we want to skip the rest of the logic in\u001b[39;00m\n\u001b[1;32m   1497\u001b[0m \u001b[39m# this function, and just call forward.\u001b[39;00m\n\u001b[1;32m   1498\u001b[0m \u001b[39mif\u001b[39;00m \u001b[39mnot\u001b[39;00m (\u001b[39mself\u001b[39m\u001b[39m.\u001b[39m_backward_hooks \u001b[39mor\u001b[39;00m \u001b[39mself\u001b[39m\u001b[39m.\u001b[39m_backward_pre_hooks \u001b[39mor\u001b[39;00m \u001b[39mself\u001b[39m\u001b[39m.\u001b[39m_forward_hooks \u001b[39mor\u001b[39;00m \u001b[39mself\u001b[39m\u001b[39m.\u001b[39m_forward_pre_hooks\n\u001b[1;32m   1499\u001b[0m         \u001b[39mor\u001b[39;00m _global_backward_pre_hooks \u001b[39mor\u001b[39;00m _global_backward_hooks\n\u001b[1;32m   1500\u001b[0m         \u001b[39mor\u001b[39;00m _global_forward_hooks \u001b[39mor\u001b[39;00m _global_forward_pre_hooks):\n\u001b[0;32m-> 1501\u001b[0m     \u001b[39mreturn\u001b[39;00m forward_call(\u001b[39m*\u001b[39;49margs, \u001b[39m*\u001b[39;49m\u001b[39m*\u001b[39;49mkwargs)\n\u001b[1;32m   1502\u001b[0m \u001b[39m# Do not call functions when jit is used\u001b[39;00m\n\u001b[1;32m   1503\u001b[0m full_backward_hooks, non_full_backward_hooks \u001b[39m=\u001b[39m [], []\n",
      "File \u001b[0;32m/tmp/ipykernel_37279/3454419692.py:28\u001b[0m, in \u001b[0;36mForwardForwardNet.forward\u001b[0;34m(self, x_pos, x_neg)\u001b[0m\n\u001b[1;32m     26\u001b[0m \u001b[39mdef\u001b[39;00m \u001b[39mforward\u001b[39m(\u001b[39mself\u001b[39m, x_pos, x_neg):\n\u001b[1;32m     27\u001b[0m     out1_pos, out1_neg, loss1 \u001b[39m=\u001b[39m \u001b[39mself\u001b[39m\u001b[39m.\u001b[39mhidden1(x_pos, x_neg)\n\u001b[0;32m---> 28\u001b[0m     out2_pos, out2_neg, loss2 \u001b[39m=\u001b[39m \u001b[39mself\u001b[39;49m\u001b[39m.\u001b[39;49mhidden2(out1_pos, out1_neg)\n\u001b[1;32m     29\u001b[0m     out3_pos, out3_neg, loss3 \u001b[39m=\u001b[39m \u001b[39mself\u001b[39m\u001b[39m.\u001b[39mhidden3(out2_pos, out2_neg)\n\u001b[1;32m     30\u001b[0m     out4_pos, out4_neg, loss4 \u001b[39m=\u001b[39m \u001b[39mself\u001b[39m\u001b[39m.\u001b[39mhidden4(out3_pos, out3_neg)\n",
      "File \u001b[0;32m~/michaelliang/venv/lib/python3.8/site-packages/torch/nn/modules/module.py:1501\u001b[0m, in \u001b[0;36mModule._call_impl\u001b[0;34m(self, *args, **kwargs)\u001b[0m\n\u001b[1;32m   1496\u001b[0m \u001b[39m# If we don't have any hooks, we want to skip the rest of the logic in\u001b[39;00m\n\u001b[1;32m   1497\u001b[0m \u001b[39m# this function, and just call forward.\u001b[39;00m\n\u001b[1;32m   1498\u001b[0m \u001b[39mif\u001b[39;00m \u001b[39mnot\u001b[39;00m (\u001b[39mself\u001b[39m\u001b[39m.\u001b[39m_backward_hooks \u001b[39mor\u001b[39;00m \u001b[39mself\u001b[39m\u001b[39m.\u001b[39m_backward_pre_hooks \u001b[39mor\u001b[39;00m \u001b[39mself\u001b[39m\u001b[39m.\u001b[39m_forward_hooks \u001b[39mor\u001b[39;00m \u001b[39mself\u001b[39m\u001b[39m.\u001b[39m_forward_pre_hooks\n\u001b[1;32m   1499\u001b[0m         \u001b[39mor\u001b[39;00m _global_backward_pre_hooks \u001b[39mor\u001b[39;00m _global_backward_hooks\n\u001b[1;32m   1500\u001b[0m         \u001b[39mor\u001b[39;00m _global_forward_hooks \u001b[39mor\u001b[39;00m _global_forward_pre_hooks):\n\u001b[0;32m-> 1501\u001b[0m     \u001b[39mreturn\u001b[39;00m forward_call(\u001b[39m*\u001b[39;49margs, \u001b[39m*\u001b[39;49m\u001b[39m*\u001b[39;49mkwargs)\n\u001b[1;32m   1502\u001b[0m \u001b[39m# Do not call functions when jit is used\u001b[39;00m\n\u001b[1;32m   1503\u001b[0m full_backward_hooks, non_full_backward_hooks \u001b[39m=\u001b[39m [], []\n",
      "File \u001b[0;32m/tmp/ipykernel_37279/3454419692.py:62\u001b[0m, in \u001b[0;36mLinearBlock.forward\u001b[0;34m(self, x_pos, x_neg)\u001b[0m\n\u001b[1;32m     59\u001b[0m \u001b[39mself\u001b[39m\u001b[39m.\u001b[39moptimizer\u001b[39m.\u001b[39mstep()\n\u001b[1;32m     61\u001b[0m \u001b[39m# Layer Norm\u001b[39;00m\n\u001b[0;32m---> 62\u001b[0m out_pos \u001b[39m=\u001b[39m \u001b[39mself\u001b[39m\u001b[39m.\u001b[39mlayernorm(\u001b[39mself\u001b[39m\u001b[39m.\u001b[39mrelu(\u001b[39mself\u001b[39;49m\u001b[39m.\u001b[39;49mlinear(x_pos)))\u001b[39m.\u001b[39mdetach()\n\u001b[1;32m     63\u001b[0m out_neg \u001b[39m=\u001b[39m \u001b[39mself\u001b[39m\u001b[39m.\u001b[39mlayernorm(\u001b[39mself\u001b[39m\u001b[39m.\u001b[39mrelu(\u001b[39mself\u001b[39m\u001b[39m.\u001b[39mlinear(x_neg)))\u001b[39m.\u001b[39mdetach()\n\u001b[1;32m     65\u001b[0m \u001b[39mreturn\u001b[39;00m out_pos, out_neg, loss\n",
      "File \u001b[0;32m~/michaelliang/venv/lib/python3.8/site-packages/torch/nn/modules/module.py:1501\u001b[0m, in \u001b[0;36mModule._call_impl\u001b[0;34m(self, *args, **kwargs)\u001b[0m\n\u001b[1;32m   1496\u001b[0m \u001b[39m# If we don't have any hooks, we want to skip the rest of the logic in\u001b[39;00m\n\u001b[1;32m   1497\u001b[0m \u001b[39m# this function, and just call forward.\u001b[39;00m\n\u001b[1;32m   1498\u001b[0m \u001b[39mif\u001b[39;00m \u001b[39mnot\u001b[39;00m (\u001b[39mself\u001b[39m\u001b[39m.\u001b[39m_backward_hooks \u001b[39mor\u001b[39;00m \u001b[39mself\u001b[39m\u001b[39m.\u001b[39m_backward_pre_hooks \u001b[39mor\u001b[39;00m \u001b[39mself\u001b[39m\u001b[39m.\u001b[39m_forward_hooks \u001b[39mor\u001b[39;00m \u001b[39mself\u001b[39m\u001b[39m.\u001b[39m_forward_pre_hooks\n\u001b[1;32m   1499\u001b[0m         \u001b[39mor\u001b[39;00m _global_backward_pre_hooks \u001b[39mor\u001b[39;00m _global_backward_hooks\n\u001b[1;32m   1500\u001b[0m         \u001b[39mor\u001b[39;00m _global_forward_hooks \u001b[39mor\u001b[39;00m _global_forward_pre_hooks):\n\u001b[0;32m-> 1501\u001b[0m     \u001b[39mreturn\u001b[39;00m forward_call(\u001b[39m*\u001b[39;49margs, \u001b[39m*\u001b[39;49m\u001b[39m*\u001b[39;49mkwargs)\n\u001b[1;32m   1502\u001b[0m \u001b[39m# Do not call functions when jit is used\u001b[39;00m\n\u001b[1;32m   1503\u001b[0m full_backward_hooks, non_full_backward_hooks \u001b[39m=\u001b[39m [], []\n",
      "File \u001b[0;32m~/michaelliang/venv/lib/python3.8/site-packages/torch/nn/modules/linear.py:114\u001b[0m, in \u001b[0;36mLinear.forward\u001b[0;34m(self, input)\u001b[0m\n\u001b[1;32m    113\u001b[0m \u001b[39mdef\u001b[39;00m \u001b[39mforward\u001b[39m(\u001b[39mself\u001b[39m, \u001b[39minput\u001b[39m: Tensor) \u001b[39m-\u001b[39m\u001b[39m>\u001b[39m Tensor:\n\u001b[0;32m--> 114\u001b[0m     \u001b[39mreturn\u001b[39;00m F\u001b[39m.\u001b[39;49mlinear(\u001b[39minput\u001b[39;49m, \u001b[39mself\u001b[39;49m\u001b[39m.\u001b[39;49mweight, \u001b[39mself\u001b[39;49m\u001b[39m.\u001b[39;49mbias)\n",
      "\u001b[0;31mKeyboardInterrupt\u001b[0m: "
     ]
    }
   ],
   "source": [
    "# Build the forward forward net\n",
    "\n",
    "# delete all files in output folder\n",
    "# if output folder eixst\n",
    "if os.path.exists('output'):\n",
    "    shutil.rmtree('output')\n",
    "os.makedirs('output')\n",
    "\n",
    "torch.manual_seed(42)\n",
    "\n",
    "# Hyperparameters\n",
    "lr = 1e-3\n",
    "batch_size = 64\n",
    "num_epoch = 100\n",
    "eval_save_interval = 10000\n",
    "\n",
    "class ForwardForwardNet(nn.Module):\n",
    "    def __init__(self):\n",
    "        super().__init__()\n",
    "        self.hidden1 = LinearBlock(in_features=784, out_features=2000)\n",
    "        self.hidden2 = LinearBlock(in_features=2000, out_features=2000)\n",
    "        self.hidden3 = LinearBlock(in_features=2000, out_features=2000)\n",
    "        self.hidden4 = LinearBlock(in_features=2000, out_features=2000)\n",
    "        self.output = nn.Linear(6000, 10)\n",
    "        self.softmax = nn.Softmax(dim=1)\n",
    "        self.training = True\n",
    "\n",
    "    def forward(self, x_pos, x_neg):\n",
    "        out1_pos, out1_neg, loss1 = self.hidden1(x_pos, x_neg)\n",
    "        out2_pos, out2_neg, loss2 = self.hidden2(out1_pos, out1_neg)\n",
    "        out3_pos, out3_neg, loss3 = self.hidden3(out2_pos, out2_neg)\n",
    "        out4_pos, out4_neg, loss4 = self.hidden4(out3_pos, out3_neg)\n",
    "\n",
    "        # # concatenate final 3 layers and put it through a classifier layer\n",
    "        # cat = torch.cat((out2, out3, out4), dim=1)\n",
    "        # logits = self.output(cat)\n",
    "        # probs = self.softmax(logits)\n",
    "\n",
    "        # Avg loss\n",
    "        loss = (loss1 + loss2 + loss3 + loss4) / 4\n",
    "        return _, loss\n",
    "\n",
    "class LinearBlock(nn.Module):\n",
    "    def __init__(self, in_features, out_features):\n",
    "        super().__init__()\n",
    "        self.linear = nn.Linear(in_features, out_features, bias=False)\n",
    "        self.relu = nn.ReLU()\n",
    "        self.layernorm = nn.LayerNorm(out_features)\n",
    "        self.optimizer = torch.optim.Adam(self.parameters(), lr=lr)\n",
    "        self.threshold = 2.0\n",
    "        \n",
    "    def forward(self, x_pos, x_neg):\n",
    "        # Compute goodness\n",
    "        g_pos = self.relu(self.linear(x_pos)).pow(2).mean(1)\n",
    "        g_neg = self.relu(self.linear(x_neg)).pow(2).mean(1)\n",
    "\n",
    "        loss = torch.log(1 + torch.exp(torch.cat([-g_pos + self.threshold, g_neg - self.threshold]))).mean()\n",
    "\n",
    "        self.optimizer.zero_grad()\n",
    "        loss.backward()\n",
    "        self.optimizer.step()\n",
    "\n",
    "        # Layer Norm\n",
    "        out_pos = self.layernorm(self.relu(self.linear(x_pos))).detach()\n",
    "        out_neg = self.layernorm(self.relu(self.linear(x_neg))).detach()\n",
    "\n",
    "        return out_pos, out_neg, loss\n",
    "\n",
    "# Train loader for train_input\n",
    "train_loader = torch.utils.data.DataLoader(train_input, batch_size=batch_size, shuffle=True, drop_last=True)\n",
    "train_neg_loader = torch.utils.data.DataLoader(train_neg_input, batch_size=batch_size, shuffle=True, drop_last=True)\n",
    "\n",
    "\n",
    "m = ForwardForwardNet()\n",
    "m.to(device)\n",
    "\n",
    "# Train the forward forward net\n",
    "for i in range(num_epoch):\n",
    "    for iter, (x_pos, x_neg) in tqdm(enumerate(zip(train_loader, train_neg_loader)), total=len(train_loader)):\n",
    "        x_pos = x_pos.view(batch_size, -1).float()\n",
    "        x_neg = x_neg.view(batch_size, -1).float()\n",
    "\n",
    "        _, loss = m(x_pos, x_neg)\n",
    "\n",
    "        # Every X iters, get the average of the last X iters and evaluate\n",
    "        if iter % eval_save_interval == 0 and iter != 0:\n",
    "            print(f'Iter {iter}: Loss {loss.item()}')\n",
    "            # evaluate_model()\n",
    "            torch.save(m.state_dict(), f'./output/ff_net_{i}_{iter}.pt')"
   ]
  },
  {
   "cell_type": "code",
   "execution_count": 10,
   "metadata": {},
   "outputs": [
    {
     "data": {
      "text/plain": [
       "OrderedDict([('hidden1.linear.weight',\n",
       "              tensor([[ 6.0446e-02,  1.4709e-01, -1.8893e-02,  ..., -1.4155e-02,\n",
       "                        9.2947e-03,  1.3469e-02],\n",
       "                      [-4.1331e-02,  9.4467e-02, -1.7078e-02,  ..., -1.0606e-02,\n",
       "                       -1.3050e-04,  1.1464e-02],\n",
       "                      [ 6.8625e-02,  6.7540e-02,  9.4747e-03,  ..., -1.2676e-02,\n",
       "                       -1.8839e-02,  5.8522e-03],\n",
       "                      ...,\n",
       "                      [ 7.8360e-02, -2.4656e-02, -3.1695e-02,  ...,  3.5621e-02,\n",
       "                        3.5547e-02, -3.4971e-02],\n",
       "                      [ 6.4718e-02,  6.3434e-02, -2.4005e-02,  ..., -3.0320e-02,\n",
       "                       -1.1202e-02,  1.5879e-02],\n",
       "                      [ 7.8743e-02,  2.9734e-02,  1.3350e-03,  ..., -2.6928e-02,\n",
       "                       -1.4568e-03,  1.3764e-02]], device='cuda:0')),\n",
       "             ('hidden1.layernorm.weight',\n",
       "              tensor([1., 1., 1.,  ..., 1., 1., 1.], device='cuda:0')),\n",
       "             ('hidden1.layernorm.bias',\n",
       "              tensor([0., 0., 0.,  ..., 0., 0., 0.], device='cuda:0')),\n",
       "             ('hidden2.linear.weight',\n",
       "              tensor([[ 1.4883e-02, -1.9614e-02,  2.4512e-02,  ...,  1.6996e-02,\n",
       "                       -6.9048e-04,  6.1030e-03],\n",
       "                      [-4.9716e-05, -8.5805e-03, -1.2424e-02,  ..., -1.9441e-02,\n",
       "                        8.1443e-04, -1.4733e-02],\n",
       "                      [-5.4321e-03,  2.5761e-03, -8.0211e-03,  ..., -1.2319e-02,\n",
       "                       -2.2611e-02, -2.0877e-02],\n",
       "                      ...,\n",
       "                      [-2.1100e-03,  1.7692e-02, -1.1824e-04,  ..., -1.0134e-02,\n",
       "                       -3.2649e-02, -3.0028e-02],\n",
       "                      [-1.6457e-02, -6.0174e-03, -2.7053e-02,  ..., -1.4244e-02,\n",
       "                        7.9860e-03, -2.2095e-02],\n",
       "                      [ 8.0166e-03,  2.0769e-02, -2.0027e-03,  ...,  1.4523e-02,\n",
       "                       -2.4850e-02, -1.3276e-02]], device='cuda:0')),\n",
       "             ('hidden2.layernorm.weight',\n",
       "              tensor([1., 1., 1.,  ..., 1., 1., 1.], device='cuda:0')),\n",
       "             ('hidden2.layernorm.bias',\n",
       "              tensor([0., 0., 0.,  ..., 0., 0., 0.], device='cuda:0')),\n",
       "             ('hidden3.linear.weight',\n",
       "              tensor([[ 0.0115,  0.0182,  0.0260,  ...,  0.0202,  0.0140,  0.0210],\n",
       "                      [ 0.0205,  0.0083, -0.0101,  ...,  0.0017,  0.0053, -0.0097],\n",
       "                      [-0.0027,  0.0015,  0.0070,  ..., -0.0161, -0.0176, -0.0158],\n",
       "                      ...,\n",
       "                      [-0.0136,  0.0042, -0.0025,  ...,  0.0177,  0.0098,  0.0042],\n",
       "                      [ 0.0048,  0.0008, -0.0225,  ...,  0.0134, -0.0212,  0.0022],\n",
       "                      [-0.0120,  0.0328,  0.0131,  ..., -0.0165,  0.0287,  0.0131]],\n",
       "                     device='cuda:0')),\n",
       "             ('hidden3.layernorm.weight',\n",
       "              tensor([1., 1., 1.,  ..., 1., 1., 1.], device='cuda:0')),\n",
       "             ('hidden3.layernorm.bias',\n",
       "              tensor([0., 0., 0.,  ..., 0., 0., 0.], device='cuda:0')),\n",
       "             ('hidden4.linear.weight',\n",
       "              tensor([[ 0.0015,  0.0032,  0.0143,  ...,  0.0164,  0.0107, -0.0047],\n",
       "                      [-0.0079,  0.0122,  0.0147,  ...,  0.0237,  0.0193, -0.0050],\n",
       "                      [-0.0048,  0.0011, -0.0124,  ...,  0.0180,  0.0074, -0.0234],\n",
       "                      ...,\n",
       "                      [-0.0165,  0.0217, -0.0036,  ..., -0.0274,  0.0087,  0.0071],\n",
       "                      [-0.0074,  0.0082, -0.0139,  ..., -0.0014,  0.0266,  0.0100],\n",
       "                      [-0.0173,  0.0128, -0.0035,  ...,  0.0079, -0.0077,  0.0131]],\n",
       "                     device='cuda:0')),\n",
       "             ('hidden4.layernorm.weight',\n",
       "              tensor([1., 1., 1.,  ..., 1., 1., 1.], device='cuda:0')),\n",
       "             ('hidden4.layernorm.bias',\n",
       "              tensor([0., 0., 0.,  ..., 0., 0., 0.], device='cuda:0')),\n",
       "             ('output.weight',\n",
       "              tensor([[ 0.0112,  0.0031,  0.0041,  ...,  0.0091,  0.0041,  0.0092],\n",
       "                      [-0.0075,  0.0039,  0.0020,  ..., -0.0072,  0.0092, -0.0048],\n",
       "                      [ 0.0021, -0.0068,  0.0075,  ..., -0.0051,  0.0042, -0.0066],\n",
       "                      ...,\n",
       "                      [-0.0093, -0.0120, -0.0069,  ...,  0.0005,  0.0125, -0.0087],\n",
       "                      [ 0.0006,  0.0121,  0.0041,  ...,  0.0021, -0.0023, -0.0040],\n",
       "                      [ 0.0064,  0.0119,  0.0055,  ...,  0.0007,  0.0002, -0.0032]],\n",
       "                     device='cuda:0')),\n",
       "             ('output.bias',\n",
       "              tensor([ 0.0116, -0.0030,  0.0071, -0.0100, -0.0071,  0.0047,  0.0039, -0.0118,\n",
       "                      -0.0105, -0.0044], device='cuda:0'))])"
      ]
     },
     "execution_count": 10,
     "metadata": {},
     "output_type": "execute_result"
    }
   ],
   "source": [
    "# load a statedict\n",
    "m.load_state_dict(torch.load('./output/ff_net_0_500.pt'))"
   ]
  },
  {
   "cell_type": "code",
   "execution_count": null,
   "metadata": {},
   "outputs": [],
   "source": []
  }
 ],
 "metadata": {
  "kernelspec": {
   "display_name": "venv",
   "language": "python",
   "name": "python3"
  },
  "language_info": {
   "codemirror_mode": {
    "name": "ipython",
    "version": 3
   },
   "file_extension": ".py",
   "mimetype": "text/x-python",
   "name": "python",
   "nbconvert_exporter": "python",
   "pygments_lexer": "ipython3",
   "version": "3.8.16"
  },
  "orig_nbformat": 4
 },
 "nbformat": 4,
 "nbformat_minor": 2
}
