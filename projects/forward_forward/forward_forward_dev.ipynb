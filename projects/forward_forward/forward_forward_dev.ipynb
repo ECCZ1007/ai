{
 "cells": [
  {
   "cell_type": "code",
   "execution_count": 55,
   "metadata": {},
   "outputs": [],
   "source": [
    "import torch\n",
    "import torchvision.datasets as datasets\n",
    "import torchvision.transforms as transforms\n",
    "from pathlib import Path\n",
    "import torch.nn as nn\n",
    "import torch.nn.functional as F\n",
    "import numpy as np\n",
    "import os\n",
    "import IPython\n",
    "import matplotlib.pyplot as plt\n",
    "from tqdm import tqdm\n",
    "import h5py"
   ]
  },
  {
   "cell_type": "code",
   "execution_count": 49,
   "metadata": {},
   "outputs": [
    {
     "name": "stderr",
     "output_type": "stream",
     "text": [
      "100%|██████████| 60000/60000 [00:07<00:00, 7840.48it/s]\n",
      "100%|██████████| 10000/10000 [00:01<00:00, 7941.27it/s]\n"
     ]
    }
   ],
   "source": [
    "# Generate the one hot encoded supervised dataset\n",
    "ds_variation = 'negative'\n",
    "output_dir = 'mnist_neg'\n",
    "\n",
    "# make the output directory if it doesn't exist\n",
    "if not os.path.exists(output_dir):\n",
    "    os.makedirs(output_dir)\n",
    "\n",
    "# Define the one-hot encoding function\n",
    "def one_hot_encode(label, num_classes=10, random=False):\n",
    "    one_hot = np.zeros(num_classes)\n",
    "    if not random:\n",
    "        one_hot[label] = 1\n",
    "    else:\n",
    "        one_hot[np.random.randint(0, num_classes)] = 1\n",
    "    return one_hot\n",
    "\n",
    "# Load the MNIST dataset\n",
    "train_dataset = datasets.MNIST(root='data', train=True, download=True, transform=transforms.ToTensor())\n",
    "test_dataset = datasets.MNIST(root='data', train=False, download=True, transform=transforms.ToTensor())\n",
    "\n",
    "# Create new datasets and copy over the data and targets\n",
    "train_neg_dataset = []\n",
    "test_neg_dataset = []\n",
    "\n",
    "for dataset, neg_dataset in [(train_dataset, train_neg_dataset), (test_dataset, test_neg_dataset)]:\n",
    "    for i in tqdm(range(len(dataset))):\n",
    "        image, label = dataset[i]\n",
    "        if ds_variation == 'positive':\n",
    "            one_hot = one_hot_encode(label, random=False)\n",
    "        elif ds_variation == 'negative':\n",
    "            one_hot = one_hot_encode(label, random=True)\n",
    "        # Replace the first 10 values in the image with the one-hot encoding\n",
    "        neg_image = torch.cat((torch.tensor(one_hot), image.view(-1)[10:]))\n",
    "        neg_dataset.append((neg_image, label))\n",
    "\n",
    "train_aug_images, train_aug_labels = zip(*train_neg_dataset)\n",
    "test_aug_images, test_aug_labels = zip(*test_neg_dataset)\n",
    "\n",
    "train_neg_dataset = torch.utils.data.TensorDataset(torch.stack(train_aug_images), torch.tensor(train_aug_labels))\n",
    "test_neg_dataset = torch.utils.data.TensorDataset(torch.stack(test_aug_images), torch.tensor(test_aug_labels))\n",
    "\n",
    "# Save the datasets in hdf5 format\n",
    "dataset_dir = Path(output_dir)\n",
    "train_file = os.path.join(dataset_dir, 'train.hdf5')\n",
    "test_file = os.path.join(dataset_dir, 'test.hdf5')\n",
    "\n",
    "with h5py.File(train_file, 'w') as f:\n",
    "    f.create_dataset('input', data=train_neg_dataset.tensors[0].numpy())\n",
    "    f.create_dataset('target', data=train_neg_dataset.tensors[1].numpy())\n",
    "\n",
    "with h5py.File(test_file, 'w') as f:\n",
    "    f.create_dataset('input', data=test_neg_dataset.tensors[0].numpy())\n",
    "    f.create_dataset('target', data=test_neg_dataset.tensors[1].numpy())"
   ]
  },
  {
   "cell_type": "code",
   "execution_count": 41,
   "metadata": {},
   "outputs": [
    {
     "data": {
      "text/plain": [
       "<matplotlib.image.AxesImage at 0x7f9552e35520>"
      ]
     },
     "execution_count": 41,
     "metadata": {},
     "output_type": "execute_result"
    },
    {
     "data": {
      "image/png": "[encoded data removed]",
      "text/plain": [
       "<Figure size 640x480 with 1 Axes>"
      ]
     },
     "metadata": {},
     "output_type": "display_data"
    }
   ],
   "source": [
    "# Plot the first image of the train_aug_dataset with small figure size\n",
    "plt.imshow(train_neg_dataset[0][0].view(28, 28), cmap='gray')"
   ]
  },
  {
   "cell_type": "code",
   "execution_count": 36,
   "metadata": {},
   "outputs": [
    {
     "data": {
      "text/plain": [
       "<matplotlib.image.AxesImage at 0x7f95547c74f0>"
      ]
     },
     "execution_count": 36,
     "metadata": {},
     "output_type": "execute_result"
    },
    {
     "data": {
      "image/png": "[encoded data removed]",
      "text/plain": [
       "<Figure size 640x480 with 1 Axes>"
      ]
     },
     "metadata": {},
     "output_type": "display_data"
    }
   ],
   "source": [
    "# Plot the first image of the train_dataset\n",
    "plt.imshow(train_dataset[0][0].view(28, 28), cmap='gray')"
   ]
  },
  {
   "cell_type": "code",
   "execution_count": 59,
   "metadata": {},
   "outputs": [],
   "source": [
    "# Load a HDF5 dataset\n",
    "import h5py\n",
    "\n",
    "def load_hdf5_dataset(file_path):\n",
    "    with h5py.File(file_path, 'r') as f:\n",
    "        input = f['input'][:]\n",
    "        target = f['target'][:]\n",
    "    return input, target\n",
    "\n",
    "# Load the datasets\n",
    "train_input, train_target = load_hdf5_dataset('mnist_pos/train.hdf5')\n",
    "train_neg_input, train_neg_target = load_hdf5_dataset('mnist_neg/train.hdf5')"
   ]
  },
  {
   "cell_type": "code",
   "execution_count": 67,
   "metadata": {},
   "outputs": [
    {
     "name": "stdout",
     "output_type": "stream",
     "text": [
      "tensor([[0.0986, 0.1029, 0.1023, 0.0953, 0.1008, 0.0988, 0.1017, 0.1006, 0.1001,\n",
      "         0.0990]], grad_fn=<SoftmaxBackward0>)\n",
      "tensor([[0.0984, 0.1020, 0.1047, 0.0960, 0.1010, 0.0984, 0.1004, 0.0998, 0.1012,\n",
      "         0.0983]], grad_fn=<SoftmaxBackward0>)\n",
      "tensor([[0.0969, 0.1023, 0.1029, 0.0963, 0.1020, 0.0998, 0.0999, 0.1026, 0.1005,\n",
      "         0.0969]], grad_fn=<SoftmaxBackward0>)\n",
      "tensor([[0.0996, 0.1016, 0.1017, 0.0965, 0.1010, 0.0997, 0.1003, 0.1006, 0.1010,\n",
      "         0.0982]], grad_fn=<SoftmaxBackward0>)\n",
      "tensor([[0.0977, 0.1017, 0.1034, 0.0962, 0.0985, 0.0965, 0.1003, 0.1037, 0.1021,\n",
      "         0.0999]], grad_fn=<SoftmaxBackward0>)\n"
     ]
    }
   ],
   "source": [
    "# Build the forward forward net\n",
    "\n",
    "class LinearBlock(nn.Module):\n",
    "    \"\"\"FC block with goodness calculations\"\"\"\n",
    "    def __init__(self, in_features, out_features):\n",
    "        super().__init__()\n",
    "        self.fc = nn.Linear(in_features, out_features)\n",
    "        self.relu = nn.ReLU()\n",
    "        \n",
    "    def forward(self, x):\n",
    "        return self.relu(self.fc(x))\n",
    "\n",
    "class ForwardForwardNet(nn.Module):\n",
    "    def __init__(self):\n",
    "        super().__init__()\n",
    "        # 4 fully connected layers each containing 2000 ReLU's arranged using nn.Sequential\n",
    "        self.block = nn.Sequential(\n",
    "            LinearBlock(784, 2000),\n",
    "            LinearBlock(2000, 2000),\n",
    "            LinearBlock(2000, 2000),\n",
    "            LinearBlock(2000, 2000),\n",
    "\n",
    "            this architecture is wrong, working this out rn... see footnotes on page 4\n",
    "        )\n",
    "        # Project the 2000 output features to 10 output features and run a softmax over it\n",
    "        self.softmax = nn.Softmax(dim=1)\n",
    "\n",
    "\n",
    "        \n",
    "    def forward(self, x):\n",
    "        logits = self.block(x)\n",
    "        probs = self.softmax(logits)\n",
    "        return probs\n",
    "\n",
    "\n",
    "\n",
    "m = ForwardForwardNet()\n",
    "\n",
    "# Train the forward forward net\n",
    "for i in range(5):\n",
    "    # Positive pass\n",
    "    x_pos = torch.randn(1, 784)\n",
    "    probs = m(x_pos)\n",
    "    print(probs)\n",
    "\n",
    "    # Forward forward loss function\n",
    "\n",
    "\n",
    "    # # Negative pass\n",
    "    # x_neg = torch.randn(1, 784)\n",
    "    # out = m(x)\n"
   ]
  },
  {
   "cell_type": "code",
   "execution_count": null,
   "metadata": {},
   "outputs": [],
   "source": []
  }
 ],
 "metadata": {
  "kernelspec": {
   "display_name": "venv",
   "language": "python",
   "name": "python3"
  },
  "language_info": {
   "codemirror_mode": {
    "name": "ipython",
    "version": 3
   },
   "file_extension": ".py",
   "mimetype": "text/x-python",
   "name": "python",
   "nbconvert_exporter": "python",
   "pygments_lexer": "ipython3",
   "version": "3.8.16"
  },
  "orig_nbformat": 4
 },
 "nbformat": 4,
 "nbformat_minor": 2
}
