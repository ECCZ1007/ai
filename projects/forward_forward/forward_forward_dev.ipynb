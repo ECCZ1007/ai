{
 "cells": [
  {
   "cell_type": "code",
   "execution_count": 1,
   "metadata": {},
   "outputs": [],
   "source": [
    "import torch\n",
    "import torchvision.datasets as datasets\n",
    "import torchvision.transforms as transforms\n",
    "from pathlib import Path\n",
    "import torch.nn as nn\n",
    "import torch.nn.functional as F\n",
    "import numpy as np\n",
    "import os\n",
    "import IPython\n",
    "import matplotlib.pyplot as plt\n",
    "from tqdm import tqdm\n",
    "import h5py"
   ]
  },
  {
   "cell_type": "code",
   "execution_count": 8,
   "metadata": {},
   "outputs": [],
   "source": [
    "# cuda device\n",
    "device = torch.device(\"cuda\" if torch.cuda.is_available() else \"cpu\")"
   ]
  },
  {
   "cell_type": "code",
   "execution_count": 15,
   "metadata": {},
   "outputs": [
    {
     "name": "stderr",
     "output_type": "stream",
     "text": [
      " 20%|██        | 12171/60000 [00:01<00:05, 8040.65it/s]\n"
     ]
    },
    {
     "ename": "KeyboardInterrupt",
     "evalue": "",
     "output_type": "error",
     "traceback": [
      "\u001b[0;31m---------------------------------------------------------------------------\u001b[0m",
      "\u001b[0;31mKeyboardInterrupt\u001b[0m                         Traceback (most recent call last)",
      "File \u001b[0;32m/tmp/ipykernel_1945/735919009.py:28\u001b[0m\n\u001b[1;32m     26\u001b[0m \u001b[39mfor\u001b[39;00m dataset, neg_dataset \u001b[39min\u001b[39;00m [(train_dataset, train_neg_dataset), (test_dataset, test_neg_dataset)]:\n\u001b[1;32m     27\u001b[0m     \u001b[39mfor\u001b[39;00m i \u001b[39min\u001b[39;00m tqdm(\u001b[39mrange\u001b[39m(\u001b[39mlen\u001b[39m(dataset))):\n\u001b[0;32m---> 28\u001b[0m         image, label \u001b[39m=\u001b[39m dataset[i]\n\u001b[1;32m     29\u001b[0m         \u001b[39mif\u001b[39;00m ds_variation \u001b[39m==\u001b[39m \u001b[39m'\u001b[39m\u001b[39mpositive\u001b[39m\u001b[39m'\u001b[39m:\n\u001b[1;32m     30\u001b[0m             one_hot \u001b[39m=\u001b[39m one_hot_encode(label, random\u001b[39m=\u001b[39m\u001b[39mFalse\u001b[39;00m)\n",
      "File \u001b[0;32m~/michaelliang/venv/lib/python3.8/site-packages/torchvision/datasets/mnist.py:142\u001b[0m, in \u001b[0;36mMNIST.__getitem__\u001b[0;34m(self, index)\u001b[0m\n\u001b[1;32m    138\u001b[0m img, target \u001b[39m=\u001b[39m \u001b[39mself\u001b[39m\u001b[39m.\u001b[39mdata[index], \u001b[39mint\u001b[39m(\u001b[39mself\u001b[39m\u001b[39m.\u001b[39mtargets[index])\n\u001b[1;32m    140\u001b[0m \u001b[39m# doing this so that it is consistent with all other datasets\u001b[39;00m\n\u001b[1;32m    141\u001b[0m \u001b[39m# to return a PIL Image\u001b[39;00m\n\u001b[0;32m--> 142\u001b[0m img \u001b[39m=\u001b[39m Image\u001b[39m.\u001b[39mfromarray(img\u001b[39m.\u001b[39;49mnumpy(), mode\u001b[39m=\u001b[39m\u001b[39m\"\u001b[39m\u001b[39mL\u001b[39m\u001b[39m\"\u001b[39m)\n\u001b[1;32m    144\u001b[0m \u001b[39mif\u001b[39;00m \u001b[39mself\u001b[39m\u001b[39m.\u001b[39mtransform \u001b[39mis\u001b[39;00m \u001b[39mnot\u001b[39;00m \u001b[39mNone\u001b[39;00m:\n\u001b[1;32m    145\u001b[0m     img \u001b[39m=\u001b[39m \u001b[39mself\u001b[39m\u001b[39m.\u001b[39mtransform(img)\n",
      "\u001b[0;31mKeyboardInterrupt\u001b[0m: "
     ]
    }
   ],
   "source": [
    "# Generate the one hot encoded supervised dataset\n",
    "ds_variation = 'negative'\n",
    "output_dir = 'mnist_neg'\n",
    "\n",
    "# make the output directory if it doesn't exist\n",
    "if not os.path.exists(output_dir):\n",
    "    os.makedirs(output_dir)\n",
    "\n",
    "# Define the one-hot encoding function\n",
    "def one_hot_encode(label, num_classes=10, random=False):\n",
    "    one_hot = np.zeros(num_classes)\n",
    "    if not random:\n",
    "        one_hot[label] = 1\n",
    "    else:\n",
    "        one_hot[np.random.randint(0, num_classes)] = 1\n",
    "    return one_hot\n",
    "\n",
    "# Load the MNIST dataset\n",
    "train_dataset = datasets.MNIST(root='data', train=True, download=True, transform=transforms.ToTensor())\n",
    "test_dataset = datasets.MNIST(root='data', train=False, download=True, transform=transforms.ToTensor())\n",
    "\n",
    "# Create new datasets and copy over the data and targets\n",
    "train_neg_dataset = []\n",
    "test_neg_dataset = []\n",
    "\n",
    "for dataset, neg_dataset in [(train_dataset, train_neg_dataset), (test_dataset, test_neg_dataset)]:\n",
    "    for i in tqdm(range(len(dataset))):\n",
    "        image, label = dataset[i]\n",
    "        if ds_variation == 'positive':\n",
    "            one_hot = one_hot_encode(label, random=False)\n",
    "        elif ds_variation == 'negative':\n",
    "            one_hot = one_hot_encode(label, random=True)\n",
    "        # Replace the first 10 values in the image with the one-hot encoding\n",
    "        neg_image = torch.cat((torch.tensor(one_hot), image.view(-1)[10:]))\n",
    "        neg_dataset.append((neg_image, label))\n",
    "\n",
    "train_aug_images, train_aug_labels = zip(*train_neg_dataset)\n",
    "test_aug_images, test_aug_labels = zip(*test_neg_dataset)\n",
    "\n",
    "train_neg_dataset = torch.utils.data.TensorDataset(torch.stack(train_aug_images), torch.tensor(train_aug_labels))\n",
    "test_neg_dataset = torch.utils.data.TensorDataset(torch.stack(test_aug_images), torch.tensor(test_aug_labels))\n",
    "\n",
    "# Save the datasets in hdf5 format\n",
    "dataset_dir = Path(output_dir)\n",
    "train_file = os.path.join(dataset_dir, 'train.hdf5')\n",
    "test_file = os.path.join(dataset_dir, 'test.hdf5')\n",
    "\n",
    "with h5py.File(train_file, 'w') as f:\n",
    "    f.create_dataset('input', data=train_neg_dataset.tensors[0].numpy())\n",
    "    f.create_dataset('target', data=train_neg_dataset.tensors[1].numpy())\n",
    "\n",
    "with h5py.File(test_file, 'w') as f:\n",
    "    f.create_dataset('input', data=test_neg_dataset.tensors[0].numpy())\n",
    "    f.create_dataset('target', data=test_neg_dataset.tensors[1].numpy())"
   ]
  },
  {
   "cell_type": "code",
   "execution_count": null,
   "metadata": {},
   "outputs": [
    {
     "data": {
      "text/plain": [
       "<matplotlib.image.AxesImage at 0x7f9552e35520>"
      ]
     },
     "execution_count": 41,
     "metadata": {},
     "output_type": "execute_result"
    },
    {
     "data": {
      "image/png": "[encoded data removed]",
      "text/plain": [
       "<Figure size 640x480 with 1 Axes>"
      ]
     },
     "metadata": {},
     "output_type": "display_data"
    }
   ],
   "source": [
    "# Plot the first image of the train_aug_dataset with small figure size\n",
    "plt.imshow(train_neg_dataset[0][0].view(28, 28), cmap='gray')"
   ]
  },
  {
   "cell_type": "code",
   "execution_count": null,
   "metadata": {},
   "outputs": [
    {
     "data": {
      "text/plain": [
       "<matplotlib.image.AxesImage at 0x7f95547c74f0>"
      ]
     },
     "execution_count": 36,
     "metadata": {},
     "output_type": "execute_result"
    },
    {
     "data": {
      "image/png": "[encoded data removed]",
      "text/plain": [
       "<Figure size 640x480 with 1 Axes>"
      ]
     },
     "metadata": {},
     "output_type": "display_data"
    }
   ],
   "source": [
    "# Plot the first image of the train_dataset\n",
    "plt.imshow(train_dataset[0][0].view(28, 28), cmap='gray')"
   ]
  },
  {
   "cell_type": "code",
   "execution_count": 30,
   "metadata": {},
   "outputs": [
    {
     "data": {
      "text/plain": [
       "torch.Tensor"
      ]
     },
     "execution_count": 30,
     "metadata": {},
     "output_type": "execute_result"
    }
   ],
   "source": [
    "# Load a HDF5 dataset\n",
    "import h5py\n",
    "\n",
    "def load_hdf5_dataset(file_path):\n",
    "    with h5py.File(file_path, 'r') as f:\n",
    "        input = f['input'][:]\n",
    "        target = f['target'][:]\n",
    "    return input, target\n",
    "\n",
    "# Load the datasets\n",
    "train_input, train_target = load_hdf5_dataset('mnist_pos/train.hdf5')\n",
    "train_neg_input, train_neg_target = load_hdf5_dataset('mnist_neg/train.hdf5')\n",
    "# Load test sets\n",
    "test_input, test_target = load_hdf5_dataset('mnist_pos/test.hdf5')\n",
    "\n",
    "# Move to cuda\n",
    "train_input = torch.tensor(train_input).to(device)\n",
    "train_target = torch.tensor(train_target).to(device)\n",
    "train_neg_input = torch.tensor(train_neg_input).to(device)\n",
    "train_neg_target = torch.tensor(train_neg_target).to(device)\n",
    "test_input = torch.tensor(test_input).to(device)\n",
    "test_target = torch.tensor(test_target).to(device)\n",
    "\n",
    "type(test_input)"
   ]
  },
  {
   "cell_type": "code",
   "execution_count": 57,
   "metadata": {},
   "outputs": [
    {
     "name": "stderr",
     "output_type": "stream",
     "text": [
      " 17%|█▋        | 9991/60000 [00:24<02:01, 410.36it/s]"
     ]
    },
    {
     "name": "stdout",
     "output_type": "stream",
     "text": [
      "Pos 33.74120161533356\n",
      "Neg 33.11360060691833\n",
      "Ratio 0.9387523222772112 %\n"
     ]
    },
    {
     "name": "stderr",
     "output_type": "stream",
     "text": [
      "100%|██████████| 10000/10000 [00:05<00:00, 1810.76it/s]\n",
      " 17%|█▋        | 10074/60000 [00:30<25:21, 32.81it/s]"
     ]
    },
    {
     "name": "stdout",
     "output_type": "stream",
     "text": [
      "Got 223 / 10000 with accuracy 2.23 %\n",
      "Sum of first layer tensor(-69.2201, device='cuda:0')\n"
     ]
    },
    {
     "name": "stderr",
     "output_type": "stream",
     "text": [
      " 33%|███▎      | 19971/60000 [00:54<01:39, 401.20it/s]"
     ]
    },
    {
     "name": "stdout",
     "output_type": "stream",
     "text": [
      "Pos 48.99922282314301\n",
      "Neg 46.99730640125274\n",
      "Ratio 2.085405001685743 %\n"
     ]
    },
    {
     "name": "stderr",
     "output_type": "stream",
     "text": [
      "100%|██████████| 10000/10000 [00:05<00:00, 1801.02it/s]\n",
      " 33%|███▎      | 20053/60000 [01:00<20:34, 32.36it/s] "
     ]
    },
    {
     "name": "stdout",
     "output_type": "stream",
     "text": [
      "Got 822 / 10000 with accuracy 8.22 %\n",
      "Sum of first layer tensor(30.6824, device='cuda:0')\n"
     ]
    },
    {
     "name": "stderr",
     "output_type": "stream",
     "text": [
      " 50%|████▉     | 29986/60000 [01:24<01:13, 408.38it/s]"
     ]
    },
    {
     "name": "stdout",
     "output_type": "stream",
     "text": [
      "Pos 70.18164380455018\n",
      "Neg 65.95442250823974\n",
      "Ratio 3.1051442948247483 %\n"
     ]
    },
    {
     "name": "stderr",
     "output_type": "stream",
     "text": [
      "100%|██████████| 10000/10000 [00:05<00:00, 1830.74it/s]\n",
      " 50%|█████     | 30068/60000 [01:30<15:09, 32.90it/s] "
     ]
    },
    {
     "name": "stdout",
     "output_type": "stream",
     "text": [
      "Got 886 / 10000 with accuracy 8.86 %\n",
      "Sum of first layer tensor(233.9548, device='cuda:0')\n"
     ]
    },
    {
     "name": "stderr",
     "output_type": "stream",
     "text": [
      " 67%|██████▋   | 39981/60000 [01:54<00:48, 410.35it/s]"
     ]
    },
    {
     "name": "stdout",
     "output_type": "stream",
     "text": [
      "Pos 124.21997494888306\n",
      "Neg 115.50639299964905\n",
      "Ratio 3.6348033067037364 %\n"
     ]
    },
    {
     "name": "stderr",
     "output_type": "stream",
     "text": [
      "100%|██████████| 10000/10000 [00:05<00:00, 1794.65it/s]\n",
      " 67%|██████▋   | 40064/60000 [02:00<10:10, 32.66it/s] "
     ]
    },
    {
     "name": "stdout",
     "output_type": "stream",
     "text": [
      "Got 93 / 10000 with accuracy 0.93 %\n",
      "Sum of first layer tensor(499.4842, device='cuda:0')\n"
     ]
    },
    {
     "name": "stderr",
     "output_type": "stream",
     "text": [
      " 83%|████████▎ | 49962/60000 [02:24<00:24, 413.34it/s]"
     ]
    },
    {
     "name": "stdout",
     "output_type": "stream",
     "text": [
      "Pos 202.20234745788574\n",
      "Neg 186.43264463806153\n",
      "Ratio 4.057715630488295 %\n"
     ]
    },
    {
     "name": "stderr",
     "output_type": "stream",
     "text": [
      "100%|██████████| 10000/10000 [00:05<00:00, 1828.51it/s]\n",
      " 83%|████████▎ | 50045/60000 [02:30<04:59, 33.24it/s] "
     ]
    },
    {
     "name": "stdout",
     "output_type": "stream",
     "text": [
      "Got 96 / 10000 with accuracy 0.96 %\n",
      "Sum of first layer tensor(870.2909, device='cuda:0')\n"
     ]
    },
    {
     "name": "stderr",
     "output_type": "stream",
     "text": [
      " 87%|████████▋ | 52408/60000 [02:35<00:22, 335.97it/s]\n"
     ]
    },
    {
     "ename": "KeyboardInterrupt",
     "evalue": "",
     "output_type": "error",
     "traceback": [
      "\u001b[0;31m---------------------------------------------------------------------------\u001b[0m",
      "\u001b[0;31mKeyboardInterrupt\u001b[0m                         Traceback (most recent call last)",
      "File \u001b[0;32m/tmp/ipykernel_6263/448201552.py:119\u001b[0m\n\u001b[1;32m    117\u001b[0m \u001b[39m# Negative forward pass\u001b[39;00m\n\u001b[1;32m    118\u001b[0m x_neg \u001b[39m=\u001b[39m x_neg\u001b[39m.\u001b[39mview(\u001b[39m1\u001b[39m, \u001b[39m-\u001b[39m\u001b[39m1\u001b[39m)\u001b[39m.\u001b[39mfloat()        \n\u001b[0;32m--> 119\u001b[0m neg_probs, goodness_neg \u001b[39m=\u001b[39m m(x_neg, is_pos\u001b[39m=\u001b[39;49m\u001b[39mFalse\u001b[39;49;00m, goodness\u001b[39m=\u001b[39;49mgoodness_neg)\n\u001b[1;32m    121\u001b[0m \u001b[39m# Every X iters, get the average of the last X iters and evaluate\u001b[39;00m\n\u001b[1;32m    122\u001b[0m \u001b[39mif\u001b[39;00m \u001b[39miter\u001b[39m \u001b[39m%\u001b[39m \u001b[39m10000\u001b[39m \u001b[39m==\u001b[39m \u001b[39m0\u001b[39m \u001b[39mand\u001b[39;00m \u001b[39miter\u001b[39m \u001b[39m!=\u001b[39m \u001b[39m0\u001b[39m:\n",
      "File \u001b[0;32m~/michaelliang/venv/lib/python3.8/site-packages/torch/nn/modules/module.py:1501\u001b[0m, in \u001b[0;36mModule._call_impl\u001b[0;34m(self, *args, **kwargs)\u001b[0m\n\u001b[1;32m   1496\u001b[0m \u001b[39m# If we don't have any hooks, we want to skip the rest of the logic in\u001b[39;00m\n\u001b[1;32m   1497\u001b[0m \u001b[39m# this function, and just call forward.\u001b[39;00m\n\u001b[1;32m   1498\u001b[0m \u001b[39mif\u001b[39;00m \u001b[39mnot\u001b[39;00m (\u001b[39mself\u001b[39m\u001b[39m.\u001b[39m_backward_hooks \u001b[39mor\u001b[39;00m \u001b[39mself\u001b[39m\u001b[39m.\u001b[39m_backward_pre_hooks \u001b[39mor\u001b[39;00m \u001b[39mself\u001b[39m\u001b[39m.\u001b[39m_forward_hooks \u001b[39mor\u001b[39;00m \u001b[39mself\u001b[39m\u001b[39m.\u001b[39m_forward_pre_hooks\n\u001b[1;32m   1499\u001b[0m         \u001b[39mor\u001b[39;00m _global_backward_pre_hooks \u001b[39mor\u001b[39;00m _global_backward_hooks\n\u001b[1;32m   1500\u001b[0m         \u001b[39mor\u001b[39;00m _global_forward_hooks \u001b[39mor\u001b[39;00m _global_forward_pre_hooks):\n\u001b[0;32m-> 1501\u001b[0m     \u001b[39mreturn\u001b[39;00m forward_call(\u001b[39m*\u001b[39;49margs, \u001b[39m*\u001b[39;49m\u001b[39m*\u001b[39;49mkwargs)\n\u001b[1;32m   1502\u001b[0m \u001b[39m# Do not call functions when jit is used\u001b[39;00m\n\u001b[1;32m   1503\u001b[0m full_backward_hooks, non_full_backward_hooks \u001b[39m=\u001b[39m [], []\n",
      "File \u001b[0;32m/tmp/ipykernel_6263/448201552.py:78\u001b[0m, in \u001b[0;36mForwardForwardNet.forward\u001b[0;34m(self, x, is_pos, goodness)\u001b[0m\n\u001b[1;32m     75\u001b[0m goodness\u001b[39m.\u001b[39mappend(goodness1)\n\u001b[1;32m     77\u001b[0m \u001b[39m# concatenate final 3 layers and put it through a classifier layer\u001b[39;00m\n\u001b[0;32m---> 78\u001b[0m cat \u001b[39m=\u001b[39m torch\u001b[39m.\u001b[39;49mcat((out2, out3, out4), dim\u001b[39m=\u001b[39;49m\u001b[39m1\u001b[39;49m)\n\u001b[1;32m     79\u001b[0m logits \u001b[39m=\u001b[39m \u001b[39mself\u001b[39m\u001b[39m.\u001b[39moutput(cat)\n\u001b[1;32m     80\u001b[0m probs \u001b[39m=\u001b[39m \u001b[39mself\u001b[39m\u001b[39m.\u001b[39msoftmax(logits)\n",
      "\u001b[0;31mKeyboardInterrupt\u001b[0m: "
     ]
    }
   ],
   "source": [
    "# Build the forward forward net\n",
    "\n",
    "# Hyperparameters\n",
    "torch.manual_seed(42)\n",
    "lr = 4e-5\n",
    "\n",
    "# class CNNBlock(nn.Module):\n",
    "#     def __init__(self, in_channels, out_channels, kernel_size, stride=1, padding=0):\n",
    "#         super().__init__()\n",
    "#         self.cnn = nn.Conv2d(in_channels, out_channels, kernel_size, stride, padding)\n",
    "#         self.relu = nn.ReLU()\n",
    "        \n",
    "#     def forward(self, x):\n",
    "#         out = self.relu(self.cnn(x))\n",
    "#         return out\n",
    "\n",
    "class LinearBlock(nn.Module):\n",
    "    def __init__(self, in_features, out_features):\n",
    "        super().__init__()\n",
    "        self.linear = nn.Linear(in_features, out_features, bias=False)\n",
    "        self.relu = nn.ReLU()\n",
    "        self.layernorm = nn.LayerNorm(out_features)\n",
    "        \n",
    "    def forward(self, x, is_pos, training=True):\n",
    "        out = self.relu(self.linear(x))\n",
    "        # sum the squared activations of out\n",
    "        goodness = torch.sum(out**2) \n",
    "        \n",
    "        if training:\n",
    "            # Update weights based on goodness value.\n",
    "            self.linear.weight.grad = None\n",
    "            # Manual gradient calculation\n",
    "            d_goodness_d_out = 2 * out\n",
    "            d_out_d_W = x.T\n",
    "            d_goodness_d_W = d_goodness_d_out * d_out_d_W\n",
    "            self.linear.weight.grad = d_goodness_d_W.T\n",
    "\n",
    "            # apply sigmoid to goodness\n",
    "            pos_prob = torch.sigmoid(goodness)            \n",
    "            \n",
    "            with torch.no_grad():\n",
    "                if is_pos:\n",
    "                    # print('pos', goodness)\n",
    "                    self.linear.weight += self.linear.weight.grad * lr\n",
    "                else:\n",
    "                    # print('neg', goodness)\n",
    "                    self.linear.weight -= self.linear.weight.grad * lr\n",
    "\n",
    "        # Layer Norm\n",
    "        out = self.layernorm(out)\n",
    "\n",
    "        return out, goodness.item()\n",
    "\n",
    "class ForwardForwardNet(nn.Module):\n",
    "    def __init__(self):\n",
    "        super().__init__()\n",
    "        self.hidden1 = LinearBlock(in_features=784, out_features=2000)\n",
    "        self.hidden2 = LinearBlock(in_features=2000, out_features=2000)\n",
    "        self.hidden3 = LinearBlock(in_features=2000, out_features=2000)\n",
    "        self.hidden4 = LinearBlock(in_features=2000, out_features=2000)\n",
    "        # self.hidden1 = CNNBlock(in_channels=1, out_channels=128, kernel_size=4, stride=6, padding=1), # (B, 128, 5, 5)\n",
    "        # self.hidden2 = CNNBlock(in_channels=128, out_channels=220, kernel_size=3), # (B, 220, 3, 3)\n",
    "        # self.hidden3 =CNNBlock(in_channels=220, out_channels=512, kernel_size=2), # (B, 512, 2, 2)\n",
    "        self.output = nn.Linear(6000, 10)\n",
    "        self.softmax = nn.Softmax(dim=1)\n",
    "        self.training = True\n",
    "\n",
    "    def forward(self, x, is_pos, goodness):\n",
    "        out1, goodness1 = self.hidden1(x, is_pos, training=self.training)\n",
    "        out2, goodness2 = self.hidden2(out1, is_pos, training=self.training)\n",
    "        out3, goodness3 = self.hidden3(out2, is_pos, training=self.training)\n",
    "        out4, goodness4 = self.hidden4(out3, is_pos, training=self.training)\n",
    "\n",
    "        # append to goodness\n",
    "        goodness.append(goodness1)\n",
    "\n",
    "        # concatenate final 3 layers and put it through a classifier layer\n",
    "        cat = torch.cat((out2, out3, out4), dim=1)\n",
    "        logits = self.output(cat)\n",
    "        probs = self.softmax(logits)\n",
    "\n",
    "        return probs, goodness\n",
    "\n",
    "def evaluate_model():\n",
    "    # Run the model through the test dataset and see how well the model outputs the correct label\n",
    "    with torch.no_grad():\n",
    "        num_correct = 0\n",
    "        num_samples = len(test_input)\n",
    "        m.training = False\n",
    "        for x, y in tqdm(zip(test_input, test_target), total=len(test_input)):\n",
    "            x = x.view(1, -1).float()\n",
    "            # Make first 10 tensor values 0.1\n",
    "            x[:, :10] = 0.1\n",
    "            probs, _ = m(x, is_pos=True, goodness=[])\n",
    "            _, predictions = probs.max(1)\n",
    "            num_correct += 1 if predictions.item() == y.item() else 0\n",
    "        acc = float(num_correct)/float(num_samples)\n",
    "        print(f'Got {num_correct} / {num_samples} with accuracy {acc*100:.2f} %')\n",
    "        # sum the value of the first linear layer\n",
    "        print('Sum of first layer', torch.sum(m.hidden1.linear.weight))\n",
    "    m.training = True\n",
    "\n",
    "\n",
    "m = ForwardForwardNet()\n",
    "m.to(device)\n",
    "\n",
    "# Train the forward forward net\n",
    "goodness_pos, goodness_neg = [], []\n",
    "num_epoch = 1\n",
    "for i in range(num_epoch):\n",
    "    # zip positive and negative in a for loop\n",
    "    for iter, (x_pos, x_neg) in tqdm(enumerate(zip(train_input, train_neg_input)), total=len(train_input)):\n",
    "        # convert numpy ndarray to tensor\n",
    "        x_pos = x_pos.view(1, -1).float()\n",
    "        pos_probs, goodness_pos = m(x_pos, is_pos=True, goodness=goodness_pos)\n",
    "\n",
    "        # Negative forward pass\n",
    "        x_neg = x_neg.view(1, -1).float()        \n",
    "        neg_probs, goodness_neg = m(x_neg, is_pos=False, goodness=goodness_neg)\n",
    "\n",
    "        # Every X iters, get the average of the last X iters and evaluate\n",
    "        if iter % 10000 == 0 and iter != 0:\n",
    "            print('Pos', np.mean(goodness_pos[-1000:]))\n",
    "            print('Neg', np.mean(goodness_neg[-1000:]))\n",
    "            print('Ratio', (np.mean(goodness_pos[-1000:]) - np.mean(goodness_neg[-1000:])) / (np.mean(goodness_pos[-1000:]) + np.mean(goodness_neg[-1000:])) * 100, '%')\n",
    "            evaluate_model()"
   ]
  },
  {
   "cell_type": "code",
   "execution_count": 52,
   "metadata": {},
   "outputs": [
    {
     "name": "stdout",
     "output_type": "stream",
     "text": [
      "<Figure size 1000x500 with 2 Axes>\n"
     ]
    }
   ],
   "source": [
    "# plot two lists side by side\n",
    "def plot_two_lists(list1, list2):\n",
    "    fig, ax = plt.subplots(1, 2, figsize=(10, 5))\n",
    "    ax[0].plot(list1)\n",
    "    ax[0].set_title('Goodness of Positive')\n",
    "    ax[1].plot(list2)\n",
    "    ax[1].set_title('Goodness of Negative')\n",
    "    plt.show()\n",
    "\n",
    "plot_two_lists(goodness_pos, goodness_neg)"
   ]
  },
  {
   "cell_type": "code",
   "execution_count": null,
   "metadata": {},
   "outputs": [],
   "source": []
  }
 ],
 "metadata": {
  "kernelspec": {
   "display_name": "venv",
   "language": "python",
   "name": "python3"
  },
  "language_info": {
   "codemirror_mode": {
    "name": "ipython",
    "version": 3
   },
   "file_extension": ".py",
   "mimetype": "text/x-python",
   "name": "python",
   "nbconvert_exporter": "python",
   "pygments_lexer": "ipython3",
   "version": "3.8.16"
  },
  "orig_nbformat": 4
 },
 "nbformat": 4,
 "nbformat_minor": 2
}
