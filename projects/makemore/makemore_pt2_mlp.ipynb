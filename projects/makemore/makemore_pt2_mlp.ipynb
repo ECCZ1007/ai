{
 "cells": [
  {
   "attachments": {},
   "cell_type": "markdown",
   "metadata": {},
   "source": [
    "# Makemore pt 2\n",
    "Build a character-level language model that has greater than one character of context using a multilayer perceptron.\n",
    "It follows [Bengio et al 2003](https://www.jmlr.org/papers/volume3/bengio03a/bengio03a.pdf)"
   ]
  },
  {
   "cell_type": "code",
   "execution_count": 9,
   "metadata": {},
   "outputs": [],
   "source": [
    "import torch\n",
    "import torch.nn.functional as F\n",
    "import matplotlib.pyplot as plt\n",
    "%matplotlib inline\n",
    "from tqdm import tqdm\n",
    "import random"
   ]
  },
  {
   "cell_type": "code",
   "execution_count": 10,
   "metadata": {},
   "outputs": [
    {
     "name": "stdout",
     "output_type": "stream",
     "text": [
      "cpu\n"
     ]
    }
   ],
   "source": [
    "# Mac OS GPU acceleration or CPU\n",
    "device = torch.device(\"cpu\" if torch.backends.mps.is_available() else \"cpu\")\n",
    "print(device)"
   ]
  },
  {
   "cell_type": "code",
   "execution_count": 11,
   "metadata": {},
   "outputs": [
    {
     "name": "stdout",
     "output_type": "stream",
     "text": [
      "['emma', 'olivia', 'ava', 'isabella', 'sophia']\n",
      "32033\n"
     ]
    }
   ],
   "source": [
    "# Load names from file\n",
    "words = open('names.txt', 'r').read().splitlines()\n",
    "print(words[:5])\n",
    "print(len(words))"
   ]
  },
  {
   "cell_type": "code",
   "execution_count": 12,
   "metadata": {},
   "outputs": [
    {
     "name": "stdout",
     "output_type": "stream",
     "text": [
      "stoi {'a': 1, 'b': 2, 'c': 3, 'd': 4, 'e': 5, 'f': 6, 'g': 7, 'h': 8, 'i': 9, 'j': 10, 'k': 11, 'l': 12, 'm': 13, 'n': 14, 'o': 15, 'p': 16, 'q': 17, 'r': 18, 's': 19, 't': 20, 'u': 21, 'v': 22, 'w': 23, 'x': 24, 'y': 25, 'z': 26, '.': 0}\n",
      "itos {1: 'a', 2: 'b', 3: 'c', 4: 'd', 5: 'e', 6: 'f', 7: 'g', 8: 'h', 9: 'i', 10: 'j', 11: 'k', 12: 'l', 13: 'm', 14: 'n', 15: 'o', 16: 'p', 17: 'q', 18: 'r', 19: 's', 20: 't', 21: 'u', 22: 'v', 23: 'w', 24: 'x', 25: 'y', 26: 'z', 0: '.'}\n"
     ]
    }
   ],
   "source": [
    "# Create vocab of characters to integers\n",
    "chars = sorted(list(set(''.join(words))))\n",
    "stoi = {c: i+1 for i, c in enumerate(chars)}\n",
    "stoi['.'] = 0\n",
    "itos = {i: c for c, i in stoi.items()}\n",
    "print('stoi', stoi)\n",
    "print('itos', itos)"
   ]
  },
  {
   "cell_type": "code",
   "execution_count": 13,
   "metadata": {},
   "outputs": [],
   "source": [
    "# Create dataset\n",
    "block_size = 4 # char context length\n",
    "\n",
    "def build_dataset(words):\n",
    "    X, Y = [], [] # X = Data, Y = Target\n",
    "    for w in words:\n",
    "        context = [0] * block_size\n",
    "        for ch in w + '.':\n",
    "            ix = stoi[ch] # next char to be predicted and added to context\n",
    "            X.append(context)\n",
    "            Y.append(ix)\n",
    "\n",
    "            context = context[1:] + [ix]\n",
    "    X = torch.tensor(X, device=device)\n",
    "    Y = torch.tensor(Y, device=device)\n",
    "    return X, Y\n",
    "\n",
    "train_n = int(len(words) * 0.8)\n",
    "dev_n = int(len(words) * 0.1)\n",
    "test_n = len(words) - train_n - dev_n\n",
    "random.shuffle(words)\n",
    "train_words = words[:train_n]\n",
    "dev_words = words[train_n:train_n+dev_n]\n",
    "test_words = words[train_n+dev_n:]\n",
    "\n",
    "train_X, train_Y = build_dataset(train_words)\n",
    "dev_X, dev_Y = build_dataset(dev_words)\n",
    "test_X, test_Y = build_dataset(test_words)"
   ]
  },
  {
   "cell_type": "code",
   "execution_count": 14,
   "metadata": {},
   "outputs": [
    {
     "name": "stdout",
     "output_type": "stream",
     "text": [
      "13897\n"
     ]
    },
    {
     "name": "stderr",
     "output_type": "stream",
     "text": [
      "  0%|          | 303/200000 [00:00<01:06, 3024.37it/s]"
     ]
    },
    {
     "name": "stdout",
     "output_type": "stream",
     "text": [
      "train loss step 0: 26.011259078979492\n",
      "dev loss step 0: 25.843570709228516\n"
     ]
    },
    {
     "name": "stderr",
     "output_type": "stream",
     "text": [
      "  5%|▌         | 10655/200000 [00:02<00:45, 4141.54it/s]"
     ]
    },
    {
     "name": "stdout",
     "output_type": "stream",
     "text": [
      "train loss step 10000: 2.14829421043396\n",
      "dev loss step 10000: 2.566032886505127\n"
     ]
    },
    {
     "name": "stderr",
     "output_type": "stream",
     "text": [
      " 10%|█         | 20605/200000 [00:05<00:43, 4149.38it/s]"
     ]
    },
    {
     "name": "stdout",
     "output_type": "stream",
     "text": [
      "train loss step 20000: 2.5358219146728516\n",
      "dev loss step 20000: 2.47729754447937\n"
     ]
    },
    {
     "name": "stderr",
     "output_type": "stream",
     "text": [
      " 15%|█▌        | 30452/200000 [00:07<00:40, 4168.89it/s]"
     ]
    },
    {
     "name": "stdout",
     "output_type": "stream",
     "text": [
      "train loss step 30000: 2.3096272945404053\n",
      "dev loss step 30000: 2.4097530841827393\n"
     ]
    },
    {
     "name": "stderr",
     "output_type": "stream",
     "text": [
      " 20%|██        | 40594/200000 [00:09<00:39, 4086.33it/s]"
     ]
    },
    {
     "name": "stdout",
     "output_type": "stream",
     "text": [
      "train loss step 40000: 2.4548468589782715\n",
      "dev loss step 40000: 2.466860055923462\n"
     ]
    },
    {
     "name": "stderr",
     "output_type": "stream",
     "text": [
      " 25%|██▌       | 50618/200000 [00:12<00:38, 3917.33it/s]"
     ]
    },
    {
     "name": "stdout",
     "output_type": "stream",
     "text": [
      "train loss step 50000: 2.172020673751831\n",
      "dev loss step 50000: 2.3835983276367188\n"
     ]
    },
    {
     "name": "stderr",
     "output_type": "stream",
     "text": [
      " 30%|███       | 60635/200000 [00:14<00:34, 4096.16it/s]"
     ]
    },
    {
     "name": "stdout",
     "output_type": "stream",
     "text": [
      "train loss step 60000: 2.5809688568115234\n",
      "dev loss step 60000: 2.389174222946167\n"
     ]
    },
    {
     "name": "stderr",
     "output_type": "stream",
     "text": [
      " 35%|███▌      | 70471/200000 [00:17<00:32, 3961.66it/s]"
     ]
    },
    {
     "name": "stdout",
     "output_type": "stream",
     "text": [
      "train loss step 70000: 2.4565346240997314\n",
      "dev loss step 70000: 2.4304869174957275\n"
     ]
    },
    {
     "name": "stderr",
     "output_type": "stream",
     "text": [
      " 40%|████      | 80658/200000 [00:19<00:28, 4123.93it/s]"
     ]
    },
    {
     "name": "stdout",
     "output_type": "stream",
     "text": [
      "train loss step 80000: 2.501605272293091\n",
      "dev loss step 80000: 2.3155014514923096\n"
     ]
    },
    {
     "name": "stderr",
     "output_type": "stream",
     "text": [
      " 45%|████▌     | 90783/200000 [00:22<00:26, 4056.82it/s]"
     ]
    },
    {
     "name": "stdout",
     "output_type": "stream",
     "text": [
      "train loss step 90000: 2.195702075958252\n",
      "dev loss step 90000: 2.3834664821624756\n"
     ]
    },
    {
     "name": "stderr",
     "output_type": "stream",
     "text": [
      " 50%|█████     | 100542/200000 [00:24<00:25, 3909.62it/s]"
     ]
    },
    {
     "name": "stdout",
     "output_type": "stream",
     "text": [
      "train loss step 100000: 2.1918375492095947\n",
      "dev loss step 100000: 2.4081108570098877\n"
     ]
    },
    {
     "name": "stderr",
     "output_type": "stream",
     "text": [
      " 55%|█████▌    | 110591/200000 [00:26<00:21, 4137.31it/s]"
     ]
    },
    {
     "name": "stdout",
     "output_type": "stream",
     "text": [
      "train loss step 110000: 2.1604559421539307\n",
      "dev loss step 110000: 2.4551854133605957\n"
     ]
    },
    {
     "name": "stderr",
     "output_type": "stream",
     "text": [
      " 60%|██████    | 120349/200000 [00:29<00:19, 3987.96it/s]"
     ]
    },
    {
     "name": "stdout",
     "output_type": "stream",
     "text": [
      "train loss step 120000: 1.8764830827713013\n",
      "dev loss step 120000: 2.4017257690429688\n"
     ]
    },
    {
     "name": "stderr",
     "output_type": "stream",
     "text": [
      " 65%|██████▌   | 130729/200000 [00:31<00:17, 4061.64it/s]"
     ]
    },
    {
     "name": "stdout",
     "output_type": "stream",
     "text": [
      "train loss step 130000: 2.5260086059570312\n",
      "dev loss step 130000: 2.2875077724456787\n"
     ]
    },
    {
     "name": "stderr",
     "output_type": "stream",
     "text": [
      " 70%|███████   | 140453/200000 [00:34<00:14, 4119.34it/s]"
     ]
    },
    {
     "name": "stdout",
     "output_type": "stream",
     "text": [
      "train loss step 140000: 2.141312599182129\n",
      "dev loss step 140000: 2.353511095046997\n"
     ]
    },
    {
     "name": "stderr",
     "output_type": "stream",
     "text": [
      " 75%|███████▌  | 150698/200000 [00:36<00:11, 4158.10it/s]"
     ]
    },
    {
     "name": "stdout",
     "output_type": "stream",
     "text": [
      "train loss step 150000: 2.153996467590332\n",
      "dev loss step 150000: 2.297333240509033\n"
     ]
    },
    {
     "name": "stderr",
     "output_type": "stream",
     "text": [
      " 80%|████████  | 160423/200000 [00:38<00:09, 4073.72it/s]"
     ]
    },
    {
     "name": "stdout",
     "output_type": "stream",
     "text": [
      "train loss step 160000: 2.485530376434326\n",
      "dev loss step 160000: 2.2620608806610107\n"
     ]
    },
    {
     "name": "stderr",
     "output_type": "stream",
     "text": [
      " 85%|████████▌ | 170529/200000 [00:41<00:07, 4165.44it/s]"
     ]
    },
    {
     "name": "stdout",
     "output_type": "stream",
     "text": [
      "train loss step 170000: 2.054004669189453\n",
      "dev loss step 170000: 2.2014880180358887\n"
     ]
    },
    {
     "name": "stderr",
     "output_type": "stream",
     "text": [
      " 90%|█████████ | 180702/200000 [00:43<00:04, 4148.11it/s]"
     ]
    },
    {
     "name": "stdout",
     "output_type": "stream",
     "text": [
      "train loss step 180000: 1.9606398344039917\n",
      "dev loss step 180000: 2.2059326171875\n"
     ]
    },
    {
     "name": "stderr",
     "output_type": "stream",
     "text": [
      " 95%|█████████▌| 190436/200000 [00:46<00:02, 3985.95it/s]"
     ]
    },
    {
     "name": "stdout",
     "output_type": "stream",
     "text": [
      "train loss step 190000: 2.0714025497436523\n",
      "dev loss step 190000: 2.212656021118164\n"
     ]
    },
    {
     "name": "stderr",
     "output_type": "stream",
     "text": [
      "100%|██████████| 200000/200000 [00:48<00:00, 4133.09it/s]\n"
     ]
    },
    {
     "name": "stdout",
     "output_type": "stream",
     "text": [
      "train loss final: 2.3234894275665283\n",
      "dev loss final: 2.20475697517395\n",
      "test loss final: 2.201038122177124\n"
     ]
    },
    {
     "data": {
      "text/plain": [
       "[<matplotlib.lines.Line2D at 0x163c28460>]"
      ]
     },
     "execution_count": 14,
     "metadata": {},
     "output_type": "execute_result"
    },
    {
     "data": {
      "image/png": "[encoded data removed]",
      "text/plain": [
       "<Figure size 640x480 with 1 Axes>"
      ]
     },
     "metadata": {},
     "output_type": "display_data"
    }
   ],
   "source": [
    "# Build C matrix = character-level embeddings to be used as inputs vectors\n",
    "g = torch.Generator().manual_seed(2147483647)\n",
    "\n",
    "C_dim = 10\n",
    "C = torch.randn((27, C_dim), generator=g, device=device)\n",
    "fc_layer_size = 200\n",
    "\n",
    "# Indexing into C is the same as one hot encoded vector @ C\n",
    "# emb = C[X]\n",
    "\n",
    "# Define the weight matrix\n",
    "W1 = torch.randn((block_size * C_dim,fc_layer_size), generator=g, device=device)\n",
    "b1 = torch.randn(fc_layer_size, generator=g, device=device)\n",
    "\n",
    "# Output layer\n",
    "W2 = torch.randn((fc_layer_size,27), generator=g, device=device)\n",
    "b2 = torch.randn(27, generator=g, device=device)\n",
    "\n",
    "# Sum number of parameters\n",
    "parameters = [C, W1, b1, W2, b2]\n",
    "for p in parameters:\n",
    "    p.requires_grad = True\n",
    "\n",
    "print(sum(p.numel() for p in parameters))\n",
    "\n",
    "# Hyperparameter search through possibl elearning rates\n",
    "lre = torch.linspace(-3, 0, 1000)\n",
    "lrs = 10**lre\n",
    "# print(lrs)\n",
    "\n",
    "lri, lossi, stepi = [], [], []\n",
    "\n",
    "# Hyperparameters\n",
    "num_steps = 200000\n",
    "batch_size = 32\n",
    "\n",
    "# Full training loop\n",
    "for i in tqdm(range(num_steps)):\n",
    "\n",
    "    # Minibatch construction\n",
    "    ix = torch.randint(0, train_X.shape[0], (batch_size,), device=device)\n",
    "\n",
    "    emb = C[train_X[ix]]\n",
    "\n",
    "    h = torch.tanh(emb.view(-1,block_size * C_dim) @ W1 + b1)\n",
    "    logits = h @ W2 + b2\n",
    "\n",
    "    # Softmax\n",
    "    loss = F.cross_entropy(logits, train_Y[ix])\n",
    "\n",
    "    # prob = F.softmax(logits, dim=1)\n",
    "    # print(prob[0,:].sum())\n",
    "\n",
    "    # # Compute loss\n",
    "    # loss = - prob[torch.arange(32), Y].log().mean()\n",
    "\n",
    "    # Backward pass\n",
    "    for p in parameters:\n",
    "        p.grad = None\n",
    "\n",
    "    loss.backward()\n",
    "    # Update parameters\n",
    "    # lr = lrs[i] # used for testing\n",
    "    if i < num_steps / 5 * 4:\n",
    "        lr = 0.1 \n",
    "    else:\n",
    "        lr = 0.05\n",
    "    # else:\n",
    "    #     lr = 0.001\n",
    "\n",
    "    for p in parameters:\n",
    "        p.data -= lr * p.grad\n",
    "    \n",
    "    # Track stats    \n",
    "    # lri.append(lr)\n",
    "    lossi.append(loss.log10().item())\n",
    "    stepi.append(i)\n",
    "\n",
    "    if i % 10000 == 0:\n",
    "        # Eval (trying to beat loss = 2.17)\n",
    "        print(f'train loss step {i}: {loss.item()}')\n",
    "\n",
    "        emb = C[dev_X]\n",
    "        h = torch.tanh(emb.view(-1,block_size * C_dim) @ W1 + b1)\n",
    "        logits = h @ W2 + b2\n",
    "        loss = F.cross_entropy(logits, dev_Y)\n",
    "        print(f'dev loss step {i}: {loss.item()}')\n",
    "\n",
    "print(f'train loss final: {loss.item()}')\n",
    "\n",
    "# Dev loss\n",
    "emb = C[dev_X]\n",
    "h = torch.tanh(emb.view(-1,block_size * C_dim) @ W1 + b1)\n",
    "logits = h @ W2 + b2\n",
    "loss = F.cross_entropy(logits, dev_Y)\n",
    "print(f'dev loss final: {loss.item()}')\n",
    "\n",
    "# Test (trying to beat loss = 2.17)\n",
    "emb = C[test_X]\n",
    "h = torch.tanh(emb.view(-1, block_size * C_dim) @ W1 + b1)\n",
    "\n",
    "logits = h @ W2 + b2\n",
    "loss = F.cross_entropy(logits, test_Y)\n",
    "\n",
    "print(f'test loss final: {loss.item()}')\n",
    "\n",
    "# Plot loss\n",
    "plt.plot(stepi, lossi)\n"
   ]
  },
  {
   "cell_type": "code",
   "execution_count": 15,
   "metadata": {},
   "outputs": [
    {
     "data": {
      "image/png": "[encoded data removed]",
      "text/plain": [
       "<Figure size 800x800 with 1 Axes>"
      ]
     },
     "metadata": {},
     "output_type": "display_data"
    }
   ],
   "source": [
    "# Embedding locations\n",
    "plt.figure(figsize=(8,8))\n",
    "plt.scatter(C[:,0].data, C[:,1].data, s = 200)\n",
    "for i in range(C.shape[0]):\n",
    "    plt.text(C[i,0].item(), C[i,1].item(), itos[i], color='white', ha='center', va='center')\n",
    "plt.grid('minor')"
   ]
  },
  {
   "cell_type": "code",
   "execution_count": 16,
   "metadata": {},
   "outputs": [
    {
     "name": "stdout",
     "output_type": "stream",
     "text": [
      "alee.\n",
      "kali.\n",
      "kordrequadrakyntie.\n",
      "szabeshriestiann.\n",
      "emamiyah.\n",
      "esman.\n",
      "leyna.\n",
      "veah.\n",
      "nahura.\n",
      "esam.\n",
      "genext.\n",
      "soran.\n",
      "yonna.\n",
      "keana.\n",
      "orlises.\n",
      "asanla.\n",
      "xyxandreen.\n",
      "leyly.\n",
      "tecob.\n",
      "lyelina.\n"
     ]
    }
   ],
   "source": [
    "# Seeing results\n",
    "for _ in range(20):\n",
    "\n",
    "    out = []\n",
    "    context = [0] * block_size\n",
    "    while True:\n",
    "        emb = C[torch.tensor(context)]\n",
    "        h = torch.tanh(emb.view(-1,block_size * C_dim) @ W1 + b1)\n",
    "        logits = h @ W2 + b2\n",
    "        probs = F.softmax(logits, dim=1)\n",
    "        ix = torch.multinomial(probs, num_samples=1, generator=g).item()\n",
    "        context = context[1:] + [ix]\n",
    "        out.append(ix)\n",
    "        if ix == 0:\n",
    "            break\n",
    "\n",
    "    print(''.join(itos[ix] for ix in out))"
   ]
  }
 ],
 "metadata": {
  "kernelspec": {
   "display_name": "venv",
   "language": "python",
   "name": "python3"
  },
  "language_info": {
   "codemirror_mode": {
    "name": "ipython",
    "version": 3
   },
   "file_extension": ".py",
   "mimetype": "text/x-python",
   "name": "python",
   "nbconvert_exporter": "python",
   "pygments_lexer": "ipython3",
   "version": "3.8.16"
  },
  "orig_nbformat": 4
 },
 "nbformat": 4,
 "nbformat_minor": 2
}
