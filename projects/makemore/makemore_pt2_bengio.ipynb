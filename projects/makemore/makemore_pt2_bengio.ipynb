{
 "cells": [
  {
   "attachments": {},
   "cell_type": "markdown",
   "metadata": {},
   "source": [
    "# Makemore pt 2\n",
    "Build a character-level language model that has greater than one character of context using feature vectors.\n",
    "It follows [Bengio et al 2003](https://www.jmlr.org/papers/volume3/bengio03a/bengio03a.pdf)"
   ]
  },
  {
   "cell_type": "code",
   "execution_count": 30,
   "metadata": {},
   "outputs": [],
   "source": [
    "import torch\n",
    "import torch.nn.functional as F\n",
    "import matplotlib.pyplot as plt\n",
    "%matplotlib inline\n",
    "from tqdm import tqdm\n",
    "import random"
   ]
  },
  {
   "cell_type": "code",
   "execution_count": 31,
   "metadata": {},
   "outputs": [
    {
     "name": "stdout",
     "output_type": "stream",
     "text": [
      "cpu\n"
     ]
    }
   ],
   "source": [
    "# Mac OS GPU acceleration or CPU\n",
    "device = torch.device(\"cpu\" if torch.backends.mps.is_available() else \"cpu\")\n",
    "print(device)"
   ]
  },
  {
   "cell_type": "code",
   "execution_count": 32,
   "metadata": {},
   "outputs": [
    {
     "name": "stdout",
     "output_type": "stream",
     "text": [
      "['emma', 'olivia', 'ava', 'isabella', 'sophia']\n",
      "32033\n"
     ]
    }
   ],
   "source": [
    "# Load names from file\n",
    "words = open('names.txt', 'r').read().splitlines()\n",
    "print(words[:5])\n",
    "print(len(words))"
   ]
  },
  {
   "cell_type": "code",
   "execution_count": 33,
   "metadata": {},
   "outputs": [
    {
     "name": "stdout",
     "output_type": "stream",
     "text": [
      "stoi {'a': 1, 'b': 2, 'c': 3, 'd': 4, 'e': 5, 'f': 6, 'g': 7, 'h': 8, 'i': 9, 'j': 10, 'k': 11, 'l': 12, 'm': 13, 'n': 14, 'o': 15, 'p': 16, 'q': 17, 'r': 18, 's': 19, 't': 20, 'u': 21, 'v': 22, 'w': 23, 'x': 24, 'y': 25, 'z': 26, '.': 0}\n",
      "itos {1: 'a', 2: 'b', 3: 'c', 4: 'd', 5: 'e', 6: 'f', 7: 'g', 8: 'h', 9: 'i', 10: 'j', 11: 'k', 12: 'l', 13: 'm', 14: 'n', 15: 'o', 16: 'p', 17: 'q', 18: 'r', 19: 's', 20: 't', 21: 'u', 22: 'v', 23: 'w', 24: 'x', 25: 'y', 26: 'z', 0: '.'}\n"
     ]
    }
   ],
   "source": [
    "# Create vocab of characters to integers\n",
    "chars = sorted(list(set(''.join(words))))\n",
    "stoi = {c: i+1 for i, c in enumerate(chars)}\n",
    "stoi['.'] = 0\n",
    "itos = {i: c for c, i in stoi.items()}\n",
    "print('stoi', stoi)\n",
    "print('itos', itos)"
   ]
  },
  {
   "cell_type": "code",
   "execution_count": 44,
   "metadata": {},
   "outputs": [],
   "source": [
    "# Create dataset\n",
    "block_size = 4 # char context length\n",
    "\n",
    "def build_dataset(words):\n",
    "    X, Y = [], [] # X = Data, Y = Target\n",
    "    for w in words:\n",
    "        context = [0] * block_size\n",
    "        for ch in w + '.':\n",
    "            ix = stoi[ch] # next char to be predicted and added to context\n",
    "            X.append(context)\n",
    "            Y.append(ix)\n",
    "\n",
    "            context = context[1:] + [ix]\n",
    "    X = torch.tensor(X, device=device)\n",
    "    Y = torch.tensor(Y, device=device)\n",
    "    return X, Y\n",
    "\n",
    "train_n = int(len(words) * 0.8)\n",
    "dev_n = int(len(words) * 0.1)\n",
    "test_n = len(words) - train_n - dev_n\n",
    "train_words = words[:train_n]\n",
    "dev_words = words[train_n:train_n+dev_n]\n",
    "test_words = words[train_n+dev_n:]\n",
    "\n",
    "train_X, train_Y = build_dataset(train_words)\n",
    "dev_X, dev_Y = build_dataset(dev_words)\n",
    "test_X, test_Y = build_dataset(test_words)"
   ]
  },
  {
   "cell_type": "code",
   "execution_count": 41,
   "metadata": {},
   "outputs": [
    {
     "name": "stdout",
     "output_type": "stream",
     "text": [
      "19362\n"
     ]
    },
    {
     "name": "stderr",
     "output_type": "stream",
     "text": [
      "  0%|          | 151/300000 [00:00<03:19, 1505.84it/s]"
     ]
    },
    {
     "name": "stdout",
     "output_type": "stream",
     "text": [
      "train loss step 0: 34.145320892333984\n",
      "dev loss step 0: 32.56587600708008\n"
     ]
    },
    {
     "name": "stderr",
     "output_type": "stream",
     "text": [
      "  3%|▎         | 10393/300000 [00:03<01:40, 2895.60it/s]"
     ]
    },
    {
     "name": "stdout",
     "output_type": "stream",
     "text": [
      "train loss step 10000: 2.958763360977173\n",
      "dev loss step 10000: 3.436159372329712\n"
     ]
    },
    {
     "name": "stderr",
     "output_type": "stream",
     "text": [
      "  7%|▋         | 20309/300000 [00:06<01:41, 2752.01it/s]"
     ]
    },
    {
     "name": "stdout",
     "output_type": "stream",
     "text": [
      "train loss step 20000: 2.4016122817993164\n",
      "dev loss step 20000: 2.7614588737487793\n"
     ]
    },
    {
     "name": "stderr",
     "output_type": "stream",
     "text": [
      " 10%|█         | 30322/300000 [00:10<01:34, 2845.64it/s]"
     ]
    },
    {
     "name": "stdout",
     "output_type": "stream",
     "text": [
      "train loss step 30000: 3.0910849571228027\n",
      "dev loss step 30000: 3.0149550437927246\n"
     ]
    },
    {
     "name": "stderr",
     "output_type": "stream",
     "text": [
      " 13%|█▎        | 40292/300000 [00:13<01:34, 2755.91it/s]"
     ]
    },
    {
     "name": "stdout",
     "output_type": "stream",
     "text": [
      "train loss step 40000: 2.7292912006378174\n",
      "dev loss step 40000: 2.6587860584259033\n"
     ]
    },
    {
     "name": "stderr",
     "output_type": "stream",
     "text": [
      " 17%|█▋        | 50283/300000 [00:17<01:31, 2744.11it/s]"
     ]
    },
    {
     "name": "stdout",
     "output_type": "stream",
     "text": [
      "train loss step 50000: 2.376866340637207\n",
      "dev loss step 50000: 3.129843235015869\n"
     ]
    },
    {
     "name": "stderr",
     "output_type": "stream",
     "text": [
      " 20%|██        | 60409/300000 [00:20<01:25, 2817.60it/s]"
     ]
    },
    {
     "name": "stdout",
     "output_type": "stream",
     "text": [
      "train loss step 60000: 2.181061029434204\n",
      "dev loss step 60000: 2.7922277450561523\n"
     ]
    },
    {
     "name": "stderr",
     "output_type": "stream",
     "text": [
      " 23%|██▎       | 70484/300000 [00:24<01:20, 2867.81it/s]"
     ]
    },
    {
     "name": "stdout",
     "output_type": "stream",
     "text": [
      "train loss step 70000: 2.2221014499664307\n",
      "dev loss step 70000: 2.494886875152588\n"
     ]
    },
    {
     "name": "stderr",
     "output_type": "stream",
     "text": [
      " 27%|██▋       | 80513/300000 [00:27<01:17, 2843.76it/s]"
     ]
    },
    {
     "name": "stdout",
     "output_type": "stream",
     "text": [
      "train loss step 80000: 2.292564868927002\n",
      "dev loss step 80000: 2.574760913848877\n"
     ]
    },
    {
     "name": "stderr",
     "output_type": "stream",
     "text": [
      " 30%|███       | 90495/300000 [00:31<01:14, 2805.23it/s]"
     ]
    },
    {
     "name": "stdout",
     "output_type": "stream",
     "text": [
      "train loss step 90000: 2.0940659046173096\n",
      "dev loss step 90000: 2.5753650665283203\n"
     ]
    },
    {
     "name": "stderr",
     "output_type": "stream",
     "text": [
      " 34%|███▎      | 100535/300000 [00:34<01:10, 2839.05it/s]"
     ]
    },
    {
     "name": "stdout",
     "output_type": "stream",
     "text": [
      "train loss step 100000: 2.452760696411133\n",
      "dev loss step 100000: 2.509636163711548\n"
     ]
    },
    {
     "name": "stderr",
     "output_type": "stream",
     "text": [
      " 37%|███▋      | 110264/300000 [00:38<01:08, 2787.79it/s]"
     ]
    },
    {
     "name": "stdout",
     "output_type": "stream",
     "text": [
      "train loss step 110000: 2.277578353881836\n",
      "dev loss step 110000: 2.483738899230957\n"
     ]
    },
    {
     "name": "stderr",
     "output_type": "stream",
     "text": [
      " 40%|████      | 120280/300000 [00:41<01:04, 2790.06it/s]"
     ]
    },
    {
     "name": "stdout",
     "output_type": "stream",
     "text": [
      "train loss step 120000: 2.416219472885132\n",
      "dev loss step 120000: 2.463045597076416\n"
     ]
    },
    {
     "name": "stderr",
     "output_type": "stream",
     "text": [
      " 43%|████▎     | 130262/300000 [00:44<01:00, 2784.12it/s]"
     ]
    },
    {
     "name": "stdout",
     "output_type": "stream",
     "text": [
      "train loss step 130000: 2.5869953632354736\n",
      "dev loss step 130000: 2.540440320968628\n"
     ]
    },
    {
     "name": "stderr",
     "output_type": "stream",
     "text": [
      " 47%|████▋     | 140296/300000 [00:48<00:56, 2802.53it/s]"
     ]
    },
    {
     "name": "stdout",
     "output_type": "stream",
     "text": [
      "train loss step 140000: 2.307955503463745\n",
      "dev loss step 140000: 2.4781429767608643\n"
     ]
    },
    {
     "name": "stderr",
     "output_type": "stream",
     "text": [
      " 50%|█████     | 150321/300000 [00:51<00:52, 2831.07it/s]"
     ]
    },
    {
     "name": "stdout",
     "output_type": "stream",
     "text": [
      "train loss step 150000: 2.4325172901153564\n",
      "dev loss step 150000: 2.515577793121338\n"
     ]
    },
    {
     "name": "stderr",
     "output_type": "stream",
     "text": [
      " 53%|█████▎    | 160376/300000 [00:55<00:49, 2835.92it/s]"
     ]
    },
    {
     "name": "stdout",
     "output_type": "stream",
     "text": [
      "train loss step 160000: 1.9120358228683472\n",
      "dev loss step 160000: 2.439711570739746\n"
     ]
    },
    {
     "name": "stderr",
     "output_type": "stream",
     "text": [
      " 57%|█████▋    | 170402/300000 [00:58<00:45, 2831.30it/s]"
     ]
    },
    {
     "name": "stdout",
     "output_type": "stream",
     "text": [
      "train loss step 170000: 1.9031037092208862\n",
      "dev loss step 170000: 2.4388012886047363\n"
     ]
    },
    {
     "name": "stderr",
     "output_type": "stream",
     "text": [
      " 60%|██████    | 180406/300000 [01:02<00:42, 2810.98it/s]"
     ]
    },
    {
     "name": "stdout",
     "output_type": "stream",
     "text": [
      "train loss step 180000: 2.0294623374938965\n",
      "dev loss step 180000: 2.5061299800872803\n"
     ]
    },
    {
     "name": "stderr",
     "output_type": "stream",
     "text": [
      " 63%|██████▎   | 190435/300000 [01:05<00:39, 2779.73it/s]"
     ]
    },
    {
     "name": "stdout",
     "output_type": "stream",
     "text": [
      "train loss step 190000: 2.4616165161132812\n",
      "dev loss step 190000: 2.502969980239868\n"
     ]
    },
    {
     "name": "stderr",
     "output_type": "stream",
     "text": [
      " 67%|██████▋   | 200485/300000 [01:09<00:35, 2829.40it/s]"
     ]
    },
    {
     "name": "stdout",
     "output_type": "stream",
     "text": [
      "train loss step 200000: 1.9972374439239502\n",
      "dev loss step 200000: 2.506375789642334\n"
     ]
    },
    {
     "name": "stderr",
     "output_type": "stream",
     "text": [
      " 70%|███████   | 210500/300000 [01:12<00:31, 2805.05it/s]"
     ]
    },
    {
     "name": "stdout",
     "output_type": "stream",
     "text": [
      "train loss step 210000: 2.004676103591919\n",
      "dev loss step 210000: 2.426375389099121\n"
     ]
    },
    {
     "name": "stderr",
     "output_type": "stream",
     "text": [
      " 73%|███████▎  | 220474/300000 [01:15<00:28, 2821.80it/s]"
     ]
    },
    {
     "name": "stdout",
     "output_type": "stream",
     "text": [
      "train loss step 220000: 2.333854913711548\n",
      "dev loss step 220000: 2.4893949031829834\n"
     ]
    },
    {
     "name": "stderr",
     "output_type": "stream",
     "text": [
      " 77%|███████▋  | 230533/300000 [01:19<00:24, 2836.33it/s]"
     ]
    },
    {
     "name": "stdout",
     "output_type": "stream",
     "text": [
      "train loss step 230000: 2.181436777114868\n",
      "dev loss step 230000: 2.423083782196045\n"
     ]
    },
    {
     "name": "stderr",
     "output_type": "stream",
     "text": [
      " 80%|████████  | 240272/300000 [01:22<00:21, 2780.69it/s]"
     ]
    },
    {
     "name": "stdout",
     "output_type": "stream",
     "text": [
      "train loss step 240000: 2.154151678085327\n",
      "dev loss step 240000: 2.445754051208496\n"
     ]
    },
    {
     "name": "stderr",
     "output_type": "stream",
     "text": [
      " 83%|████████▎ | 250353/300000 [01:26<00:17, 2828.97it/s]"
     ]
    },
    {
     "name": "stdout",
     "output_type": "stream",
     "text": [
      "train loss step 250000: 2.0399959087371826\n",
      "dev loss step 250000: 2.376593828201294\n"
     ]
    },
    {
     "name": "stderr",
     "output_type": "stream",
     "text": [
      " 87%|████████▋ | 260410/300000 [01:29<00:14, 2781.77it/s]"
     ]
    },
    {
     "name": "stdout",
     "output_type": "stream",
     "text": [
      "train loss step 260000: 1.9501099586486816\n",
      "dev loss step 260000: 2.364531993865967\n"
     ]
    },
    {
     "name": "stderr",
     "output_type": "stream",
     "text": [
      " 90%|█████████ | 270471/300000 [01:33<00:10, 2841.12it/s]"
     ]
    },
    {
     "name": "stdout",
     "output_type": "stream",
     "text": [
      "train loss step 270000: 2.1128108501434326\n",
      "dev loss step 270000: 2.4174389839172363\n"
     ]
    },
    {
     "name": "stderr",
     "output_type": "stream",
     "text": [
      " 93%|█████████▎| 280241/300000 [01:36<00:07, 2777.64it/s]"
     ]
    },
    {
     "name": "stdout",
     "output_type": "stream",
     "text": [
      "train loss step 280000: 1.9285035133361816\n",
      "dev loss step 280000: 2.378237247467041\n"
     ]
    },
    {
     "name": "stderr",
     "output_type": "stream",
     "text": [
      " 97%|█████████▋| 290313/300000 [01:39<00:03, 2822.16it/s]"
     ]
    },
    {
     "name": "stdout",
     "output_type": "stream",
     "text": [
      "train loss step 290000: 1.7809323072433472\n",
      "dev loss step 290000: 2.3534300327301025\n"
     ]
    },
    {
     "name": "stderr",
     "output_type": "stream",
     "text": [
      "100%|██████████| 300000/300000 [01:43<00:00, 2909.55it/s]\n"
     ]
    },
    {
     "name": "stdout",
     "output_type": "stream",
     "text": [
      "train loss final: 2.1975927352905273\n",
      "dev loss final: 2.3683066368103027\n",
      "test loss final: 2.4074528217315674\n"
     ]
    },
    {
     "data": {
      "text/plain": [
       "[<matplotlib.lines.Line2D at 0x16086dfa0>]"
      ]
     },
     "execution_count": 41,
     "metadata": {},
     "output_type": "execute_result"
    },
    {
     "data": {
      "image/png": "[encoded data removed]",
      "text/plain": [
       "<Figure size 640x480 with 1 Axes>"
      ]
     },
     "metadata": {},
     "output_type": "display_data"
    }
   ],
   "source": [
    "# Build C matrix = character-level embeddings to be used as inputs vectors\n",
    "g = torch.Generator().manual_seed(2147483647)\n",
    "\n",
    "C_dim = 5\n",
    "C = torch.randn((27, C_dim), generator=g, device=device)\n",
    "fc_layer_size = 400\n",
    "\n",
    "# Indexing into C is the same as one hot encoded vector @ C\n",
    "# emb = C[X]\n",
    "\n",
    "# Define the weight matrix\n",
    "W1 = torch.randn((block_size * C_dim,fc_layer_size), generator=g, device=device)\n",
    "b1 = torch.randn(fc_layer_size, generator=g, device=device)\n",
    "\n",
    "# Output layer\n",
    "W2 = torch.randn((fc_layer_size,27), generator=g, device=device)\n",
    "b2 = torch.randn(27, generator=g, device=device)\n",
    "\n",
    "# Sum number of parameters\n",
    "parameters = [C, W1, b1, W2, b2]\n",
    "for p in parameters:\n",
    "    p.requires_grad = True\n",
    "\n",
    "print(sum(p.numel() for p in parameters))\n",
    "\n",
    "# Hyperparameter search through possibl elearning rates\n",
    "lre = torch.linspace(-3, 0, 1000)\n",
    "lrs = 10**lre\n",
    "# print(lrs)\n",
    "\n",
    "lri, lossi, stepi = [], [], []\n",
    "\n",
    "# Hyperparameters\n",
    "num_steps = 300000\n",
    "batch_size = 64\n",
    "\n",
    "# Full training loop\n",
    "for i in tqdm(range(num_steps)):\n",
    "\n",
    "    # Minibatch construction\n",
    "    ix = torch.randint(0, train_X.shape[0], (batch_size,), device=device)\n",
    "\n",
    "    emb = C[train_X[ix]]\n",
    "\n",
    "    h = torch.tanh(emb.view(-1,block_size * C_dim) @ W1 + b1)\n",
    "    logits = h @ W2 + b2\n",
    "\n",
    "    # Softmax\n",
    "    loss = F.cross_entropy(logits, train_Y[ix])\n",
    "\n",
    "    # prob = F.softmax(logits, dim=1)\n",
    "    # print(prob[0,:].sum())\n",
    "\n",
    "    # # Compute loss\n",
    "    # loss = - prob[torch.arange(32), Y].log().mean()\n",
    "\n",
    "    # Backward pass\n",
    "    for p in parameters:\n",
    "        p.grad = None\n",
    "\n",
    "    loss.backward()\n",
    "    # Update parameters\n",
    "    # lr = lrs[i] # used for testing\n",
    "    if i < num_steps / 5 * 4:\n",
    "        lr = 0.1 \n",
    "    else:\n",
    "        lr = 0.05\n",
    "    # else:\n",
    "    #     lr = 0.001\n",
    "\n",
    "    for p in parameters:\n",
    "        p.data -= lr * p.grad\n",
    "    \n",
    "    # Track stats    \n",
    "    # lri.append(lr)\n",
    "    lossi.append(loss.log10().item())\n",
    "    stepi.append(i)\n",
    "\n",
    "    if i % 10000 == 0:\n",
    "        # Eval (trying to beat loss = 2.17)\n",
    "        print(f'train loss step {i}: {loss.item()}')\n",
    "\n",
    "        emb = C[dev_X]\n",
    "        h = torch.tanh(emb.view(-1,block_size * C_dim) @ W1 + b1)\n",
    "        logits = h @ W2 + b2\n",
    "        loss = F.cross_entropy(logits, dev_Y)\n",
    "        print(f'dev loss step {i}: {loss.item()}')\n",
    "\n",
    "print(f'train loss final: {loss.item()}')\n",
    "\n",
    "# Dev loss\n",
    "emb = C[dev_X]\n",
    "h = torch.tanh(emb.view(-1,block_size * C_dim) @ W1 + b1)\n",
    "logits = h @ W2 + b2\n",
    "loss = F.cross_entropy(logits, dev_Y)\n",
    "print(f'dev loss final: {loss.item()}')\n",
    "\n",
    "# Test (trying to beat loss = 2.17)\n",
    "emb = C[test_X]\n",
    "h = torch.tanh(emb.view(-1, block_size * C_dim) @ W1 + b1)\n",
    "\n",
    "logits = h @ W2 + b2\n",
    "loss = F.cross_entropy(logits, test_Y)\n",
    "\n",
    "print(f'test loss final: {loss.item()}')\n",
    "\n",
    "# Plot loss\n",
    "plt.plot(stepi, lossi)\n"
   ]
  },
  {
   "cell_type": "code",
   "execution_count": 36,
   "metadata": {},
   "outputs": [
    {
     "data": {
      "image/png": "[encoded data removed]",
      "text/plain": [
       "<Figure size 800x800 with 1 Axes>"
      ]
     },
     "metadata": {},
     "output_type": "display_data"
    }
   ],
   "source": [
    "# Embedding locations\n",
    "plt.figure(figsize=(8,8))\n",
    "plt.scatter(C[:,0].data, C[:,1].data, s = 200)\n",
    "for i in range(C.shape[0]):\n",
    "    plt.text(C[i,0].item(), C[i,1].item(), itos[i], color='white', ha='center', va='center')\n",
    "plt.grid('minor')"
   ]
  },
  {
   "cell_type": "code",
   "execution_count": 43,
   "metadata": {},
   "outputs": [
    {
     "name": "stdout",
     "output_type": "stream",
     "text": [
      "stiandra.\n",
      "layne.\n",
      "rolynn.\n",
      "kylani.\n",
      "tharoia.\n",
      "zana.\n",
      "tene.\n",
      "ilea.\n",
      "cynleigha.\n",
      "shai.\n",
      "braysor.\n",
      "lyfa.\n",
      "tynzley.\n",
      "komoseas.\n",
      "dauly.\n",
      "pertos.\n",
      "zanvi.\n",
      "joste.\n",
      "averya.\n",
      "teaco.\n"
     ]
    }
   ],
   "source": [
    "# Seeing results\n",
    "for _ in range(20):\n",
    "\n",
    "    out = []\n",
    "    context = [0] * block_size\n",
    "    while True:\n",
    "        emb = C[torch.tensor(context)]\n",
    "        h = torch.tanh(emb.view(-1,block_size * C_dim) @ W1 + b1)\n",
    "        logits = h @ W2 + b2\n",
    "        probs = F.softmax(logits, dim=1)\n",
    "        ix = torch.multinomial(probs, num_samples=1, generator=g).item()\n",
    "        context = context[1:] + [ix]\n",
    "        out.append(ix)\n",
    "        if ix == 0:\n",
    "            break\n",
    "\n",
    "    print(''.join(itos[ix] for ix in out))"
   ]
  }
 ],
 "metadata": {
  "kernelspec": {
   "display_name": "venv",
   "language": "python",
   "name": "python3"
  },
  "language_info": {
   "codemirror_mode": {
    "name": "ipython",
    "version": 3
   },
   "file_extension": ".py",
   "mimetype": "text/x-python",
   "name": "python",
   "nbconvert_exporter": "python",
   "pygments_lexer": "ipython3",
   "version": "3.8.16"
  },
  "orig_nbformat": 4
 },
 "nbformat": 4,
 "nbformat_minor": 2
}
