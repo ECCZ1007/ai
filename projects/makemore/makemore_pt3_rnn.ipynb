{
 "cells": [
  {
   "attachments": {},
   "cell_type": "markdown",
   "metadata": {},
   "source": [
    "Makemore pt3\n",
    "Use an RNN to model a character level language model.\n",
    "[Video](https://www.youtube.com/watch?v=P6sfmUTpUmc&list=PLAqhIrjkxbuWI23v9cThsA9GvCAUhRvKZ&index=4)"
   ]
  },
  {
   "cell_type": "code",
   "execution_count": 7,
   "metadata": {},
   "outputs": [],
   "source": [
    "import torch\n",
    "import torch.nn.functional as F\n",
    "import matplotlib.pyplot as plt\n",
    "%matplotlib inline\n",
    "from tqdm import tqdm\n",
    "import random"
   ]
  },
  {
   "cell_type": "code",
   "execution_count": 8,
   "metadata": {},
   "outputs": [
    {
     "name": "stdout",
     "output_type": "stream",
     "text": [
      "cpu\n"
     ]
    }
   ],
   "source": [
    "# Mac OS GPU acceleration or CPU\n",
    "device = torch.device(\"cpu\" if torch.backends.mps.is_available() else \"cpu\")\n",
    "print(device)"
   ]
  },
  {
   "cell_type": "code",
   "execution_count": 9,
   "metadata": {},
   "outputs": [
    {
     "name": "stdout",
     "output_type": "stream",
     "text": [
      "['emma', 'olivia', 'ava', 'isabella', 'sophia']\n",
      "32033\n"
     ]
    }
   ],
   "source": [
    "# Load names from file\n",
    "words = open('names.txt', 'r').read().splitlines()\n",
    "print(words[:5])\n",
    "print(len(words))"
   ]
  },
  {
   "cell_type": "code",
   "execution_count": 10,
   "metadata": {},
   "outputs": [
    {
     "name": "stdout",
     "output_type": "stream",
     "text": [
      "stoi {'a': 1, 'b': 2, 'c': 3, 'd': 4, 'e': 5, 'f': 6, 'g': 7, 'h': 8, 'i': 9, 'j': 10, 'k': 11, 'l': 12, 'm': 13, 'n': 14, 'o': 15, 'p': 16, 'q': 17, 'r': 18, 's': 19, 't': 20, 'u': 21, 'v': 22, 'w': 23, 'x': 24, 'y': 25, 'z': 26, '.': 0}\n",
      "itos {1: 'a', 2: 'b', 3: 'c', 4: 'd', 5: 'e', 6: 'f', 7: 'g', 8: 'h', 9: 'i', 10: 'j', 11: 'k', 12: 'l', 13: 'm', 14: 'n', 15: 'o', 16: 'p', 17: 'q', 18: 'r', 19: 's', 20: 't', 21: 'u', 22: 'v', 23: 'w', 24: 'x', 25: 'y', 26: 'z', 0: '.'}\n"
     ]
    }
   ],
   "source": [
    "# Create vocab of characters to integers\n",
    "chars = sorted(list(set(''.join(words))))\n",
    "stoi = {c: i+1 for i, c in enumerate(chars)}\n",
    "stoi['.'] = 0\n",
    "itos = {i: c for c, i in stoi.items()}\n",
    "print('stoi', stoi)\n",
    "print('itos', itos)\n",
    "vocab_size = len(itos)\n"
   ]
  },
  {
   "cell_type": "code",
   "execution_count": 11,
   "metadata": {},
   "outputs": [],
   "source": [
    "# Create dataset\n",
    "block_size = 4 # char context length\n",
    "\n",
    "def build_dataset(words):\n",
    "    X, Y = [], [] # X = Data, Y = Target\n",
    "    for w in words:\n",
    "        context = [0] * block_size\n",
    "        for ch in w + '.':\n",
    "            ix = stoi[ch] # next char to be predicted and added to context\n",
    "            X.append(context)\n",
    "            Y.append(ix)\n",
    "\n",
    "            context = context[1:] + [ix]\n",
    "    X = torch.tensor(X, device=device)\n",
    "    Y = torch.tensor(Y, device=device)\n",
    "    return X, Y\n",
    "\n",
    "train_n = int(len(words) * 0.8)\n",
    "dev_n = int(len(words) * 0.1)\n",
    "test_n = len(words) - train_n - dev_n\n",
    "random.shuffle(words)\n",
    "train_words = words[:train_n]\n",
    "dev_words = words[train_n:train_n+dev_n]\n",
    "test_words = words[train_n+dev_n:]\n",
    "\n",
    "train_X, train_Y = build_dataset(train_words)\n",
    "dev_X, dev_Y = build_dataset(dev_words)\n",
    "test_X, test_Y = build_dataset(test_words)"
   ]
  },
  {
   "cell_type": "code",
   "execution_count": 22,
   "metadata": {},
   "outputs": [
    {
     "name": "stdout",
     "output_type": "stream",
     "text": [
      "14297\n"
     ]
    }
   ],
   "source": [
    "# Define the MLP\n",
    "n_embd = 10\n",
    "n_hidden = 200\n",
    "\n",
    "g = torch.Generator().manual_seed(2147483647)\n",
    "\n",
    "C = torch.randn((vocab_size, n_embd), generator=g, device=device) * (5/3) / ((block_size * n_embd)**0.5) # Optimising the initialisations for the activation function, yields 5% better loss.\n",
    "W1 = torch.randn((block_size * n_embd,n_hidden), generator=g, device=device) * 0.01\n",
    "# b1 = torch.randn(n_hidden, generator=g, device=device) # Bias is not needed for batch norm, it is redunant because the addition\n",
    "W2 = torch.randn((n_hidden,vocab_size), generator=g, device=device)  * 0.01 # We squash the weights to have better initialisation loss. network ends up training for longer in the \"hard\" part of the loss curve so we get a better result. 5% better loss.\n",
    "b2 = torch.randn(vocab_size, generator=g, device=device) * 0\n",
    "\n",
    "# Batch norm gain and shift\n",
    "bngain = torch.ones((1, n_hidden), device=device)\n",
    "bnbias = torch.zeros((1, n_hidden), device=device)\n",
    "bnmean_running = torch.zeros((1, n_hidden), device=device)\n",
    "bnstd_running = torch.ones((1, n_hidden), device=device)\n",
    "\n",
    "# Sum number of parameters\n",
    "parameters = [C, W1, b1, W2, b2, bngain, bnbias]\n",
    "print(sum(p.nelement() for p in parameters))\n",
    "\n",
    "for p in parameters:\n",
    "    p.requires_grad = True\n"
   ]
  },
  {
   "cell_type": "code",
   "execution_count": 23,
   "metadata": {},
   "outputs": [
    {
     "name": "stderr",
     "output_type": "stream",
     "text": [
      "  0%|          | 340/200000 [00:00<01:56, 1717.89it/s]"
     ]
    },
    {
     "name": "stdout",
     "output_type": "stream",
     "text": [
      "      0/ 200000 loss: 3.2890\n"
     ]
    },
    {
     "name": "stderr",
     "output_type": "stream",
     "text": [
      "  5%|▌         | 10275/200000 [00:05<01:22, 2287.73it/s]"
     ]
    },
    {
     "name": "stdout",
     "output_type": "stream",
     "text": [
      "  10000/ 200000 loss: 2.5566\n"
     ]
    },
    {
     "name": "stderr",
     "output_type": "stream",
     "text": [
      " 10%|█         | 20379/200000 [00:09<01:34, 1907.43it/s]"
     ]
    },
    {
     "name": "stdout",
     "output_type": "stream",
     "text": [
      "  20000/ 200000 loss: 2.1149\n"
     ]
    },
    {
     "name": "stderr",
     "output_type": "stream",
     "text": [
      " 15%|█▌        | 30247/200000 [00:14<01:15, 2245.22it/s]"
     ]
    },
    {
     "name": "stdout",
     "output_type": "stream",
     "text": [
      "  30000/ 200000 loss: 2.0101\n"
     ]
    },
    {
     "name": "stderr",
     "output_type": "stream",
     "text": [
      " 20%|██        | 40227/200000 [00:19<01:13, 2159.15it/s]"
     ]
    },
    {
     "name": "stdout",
     "output_type": "stream",
     "text": [
      "  40000/ 200000 loss: 2.4374\n"
     ]
    },
    {
     "name": "stderr",
     "output_type": "stream",
     "text": [
      " 25%|██▌       | 50218/200000 [00:24<01:15, 1983.83it/s]"
     ]
    },
    {
     "name": "stdout",
     "output_type": "stream",
     "text": [
      "  50000/ 200000 loss: 2.1875\n"
     ]
    },
    {
     "name": "stderr",
     "output_type": "stream",
     "text": [
      " 30%|███       | 60283/200000 [00:29<01:11, 1945.65it/s]"
     ]
    },
    {
     "name": "stdout",
     "output_type": "stream",
     "text": [
      "  60000/ 200000 loss: 2.3115\n"
     ]
    },
    {
     "name": "stderr",
     "output_type": "stream",
     "text": [
      " 35%|███▌      | 70391/200000 [00:34<01:04, 2019.16it/s]"
     ]
    },
    {
     "name": "stdout",
     "output_type": "stream",
     "text": [
      "  70000/ 200000 loss: 2.2184\n"
     ]
    },
    {
     "name": "stderr",
     "output_type": "stream",
     "text": [
      " 40%|████      | 80315/200000 [00:38<00:53, 2223.62it/s]"
     ]
    },
    {
     "name": "stdout",
     "output_type": "stream",
     "text": [
      "  80000/ 200000 loss: 1.9384\n"
     ]
    },
    {
     "name": "stderr",
     "output_type": "stream",
     "text": [
      " 45%|████▌     | 90338/200000 [00:43<00:48, 2250.59it/s]"
     ]
    },
    {
     "name": "stdout",
     "output_type": "stream",
     "text": [
      "  90000/ 200000 loss: 2.0786\n"
     ]
    },
    {
     "name": "stderr",
     "output_type": "stream",
     "text": [
      " 50%|█████     | 100319/200000 [00:47<00:45, 2178.92it/s]"
     ]
    },
    {
     "name": "stdout",
     "output_type": "stream",
     "text": [
      " 100000/ 200000 loss: 2.1461\n"
     ]
    },
    {
     "name": "stderr",
     "output_type": "stream",
     "text": [
      " 55%|█████▌    | 110236/200000 [00:52<00:40, 2242.61it/s]"
     ]
    },
    {
     "name": "stdout",
     "output_type": "stream",
     "text": [
      " 110000/ 200000 loss: 2.2325\n"
     ]
    },
    {
     "name": "stderr",
     "output_type": "stream",
     "text": [
      " 60%|██████    | 120264/200000 [00:56<00:35, 2260.14it/s]"
     ]
    },
    {
     "name": "stdout",
     "output_type": "stream",
     "text": [
      " 120000/ 200000 loss: 1.9688\n"
     ]
    },
    {
     "name": "stderr",
     "output_type": "stream",
     "text": [
      " 65%|██████▌   | 130332/200000 [01:01<00:30, 2271.13it/s]"
     ]
    },
    {
     "name": "stdout",
     "output_type": "stream",
     "text": [
      " 130000/ 200000 loss: 1.8845\n"
     ]
    },
    {
     "name": "stderr",
     "output_type": "stream",
     "text": [
      " 70%|███████   | 140349/200000 [01:05<00:26, 2268.67it/s]"
     ]
    },
    {
     "name": "stdout",
     "output_type": "stream",
     "text": [
      " 140000/ 200000 loss: 2.0723\n"
     ]
    },
    {
     "name": "stderr",
     "output_type": "stream",
     "text": [
      " 75%|███████▌  | 150395/200000 [01:10<00:21, 2290.26it/s]"
     ]
    },
    {
     "name": "stdout",
     "output_type": "stream",
     "text": [
      " 150000/ 200000 loss: 2.2657\n"
     ]
    },
    {
     "name": "stderr",
     "output_type": "stream",
     "text": [
      " 80%|████████  | 160212/200000 [01:14<00:17, 2273.18it/s]"
     ]
    },
    {
     "name": "stdout",
     "output_type": "stream",
     "text": [
      " 160000/ 200000 loss: 1.8135\n"
     ]
    },
    {
     "name": "stderr",
     "output_type": "stream",
     "text": [
      " 85%|████████▌ | 170239/200000 [01:18<00:13, 2250.65it/s]"
     ]
    },
    {
     "name": "stdout",
     "output_type": "stream",
     "text": [
      " 170000/ 200000 loss: 2.0422\n"
     ]
    },
    {
     "name": "stderr",
     "output_type": "stream",
     "text": [
      " 90%|█████████ | 180307/200000 [01:23<00:08, 2277.84it/s]"
     ]
    },
    {
     "name": "stdout",
     "output_type": "stream",
     "text": [
      " 180000/ 200000 loss: 2.1032\n"
     ]
    },
    {
     "name": "stderr",
     "output_type": "stream",
     "text": [
      " 95%|█████████▌| 190321/200000 [01:27<00:04, 2263.52it/s]"
     ]
    },
    {
     "name": "stdout",
     "output_type": "stream",
     "text": [
      " 190000/ 200000 loss: 1.7874\n"
     ]
    },
    {
     "name": "stderr",
     "output_type": "stream",
     "text": [
      "100%|██████████| 200000/200000 [01:32<00:00, 2173.33it/s]\n"
     ]
    },
    {
     "data": {
      "text/plain": [
       "[<matplotlib.lines.Line2D at 0x17d8e2700>]"
      ]
     },
     "execution_count": 23,
     "metadata": {},
     "output_type": "execute_result"
    },
    {
     "data": {
      "image/png": "[encoded data removed]",
      "text/plain": [
       "<Figure size 640x480 with 1 Axes>"
      ]
     },
     "metadata": {},
     "output_type": "display_data"
    }
   ],
   "source": [
    "# same optimization as last time\n",
    "max_steps = 200000\n",
    "batch_size = 32\n",
    "lossi = []\n",
    "\n",
    "for i in tqdm(range(max_steps)):\n",
    "  \n",
    "    # minibatch construct\n",
    "    ix = torch.randint(0, train_X.shape[0], (batch_size,), generator=g)\n",
    "    Xb, Yb = train_X[ix], train_Y[ix] # batch X,Y\n",
    "\n",
    "    # forward pass\n",
    "\n",
    "    # embedding layer\n",
    "    emb = C[Xb]\n",
    "    embcat = emb.view(emb.shape[0], -1)\n",
    "\n",
    "    # Linear layer\n",
    "    hpreact = embcat @ W1 # no + b1 because batch norm makes it redundant. bias term is a single number.\n",
    "    \n",
    "    # Batch Norm\n",
    "    bnmeani = hpreact.mean(0, keepdim=True)\n",
    "    bnstdi = hpreact.std(0, keepdim=True)\n",
    "    hpreact = bngain * (hpreact - bnmeani) / bnstdi + bnbias # batch norm\n",
    "    with torch.no_grad():\n",
    "        bnmean_running = 0.999 * bnmean_running + 0.001 * bnmeani\n",
    "        bnstd_running = 0.999 * bnstd_running + 0.001 * bnstdi\n",
    "\n",
    "    # Non-linearity\n",
    "    h = torch.tanh(hpreact)\n",
    "    logits = h @ W2 + b2\n",
    "    loss = F.cross_entropy(logits, Yb)\n",
    "\n",
    "    # backward pass\n",
    "    for p in parameters:\n",
    "        p.grad = None\n",
    "    loss.backward()\n",
    "    \n",
    "    # Update\n",
    "    lr = 0.1 if i < 10000 else 0.01\n",
    "    for p in parameters:\n",
    "        p.data -= lr * p.grad\n",
    "    \n",
    "    # track stats\n",
    "    if i % 10000 == 0:\n",
    "        print(f'{i:7d}/{max_steps:7d} loss: {loss.item():.4f}')\n",
    "    lossi.append(loss.log10().item())\n",
    "\n",
    "\n",
    "# Plot\n",
    "plt.plot(lossi)"
   ]
  },
  {
   "cell_type": "code",
   "execution_count": 25,
   "metadata": {},
   "outputs": [
    {
     "name": "stdout",
     "output_type": "stream",
     "text": [
      "tensor([[ 2.0501, -0.4823,  0.8330,  0.7686, -2.4285, -1.3489,  0.4790,  0.8979,\n",
      "         -1.3777,  0.2078, -0.3131,  0.9474, -0.5770,  0.1460,  0.4954,  1.0983,\n",
      "          0.1771,  0.5988, -0.7540, -0.6818, -0.9983, -0.1928,  0.6701,  0.1255,\n",
      "          0.5310, -0.2607,  1.4380,  0.2180,  0.3307, -0.9400,  0.2482,  0.3263,\n",
      "          0.2739,  0.4451, -1.4892,  0.7303, -2.9002, -0.4240, -0.8585, -0.4043,\n",
      "         -0.9640, -0.6637, -1.3224,  0.2194, -1.3642,  0.8533,  1.7854, -0.8660,\n",
      "         -2.0476, -0.8378,  0.4281, -0.7312, -0.1589, -0.1882,  0.4976,  0.0030,\n",
      "         -0.6983,  0.4439,  1.4440,  0.5921, -1.0250, -0.5139,  0.3596, -1.8680,\n",
      "          0.5884,  1.4150,  0.0963,  0.4888,  0.1622, -0.6708,  0.8227,  0.4011,\n",
      "          0.6368,  0.3564,  0.2669, -1.5223, -0.6821, -0.2372,  1.4802,  0.8002,\n",
      "          0.6372,  0.9224,  1.5949,  1.0244, -0.5055,  2.8413,  0.6902, -1.7874,\n",
      "          0.1985, -0.1025,  0.9718,  1.2776, -1.9533,  1.7986, -2.2189, -0.1764,\n",
      "          0.0834,  1.6959, -0.4619,  0.4176,  0.6241, -0.2720, -0.2997, -0.6063,\n",
      "          0.4896,  0.1759,  1.1594, -0.6498,  0.6854,  1.3447, -1.0848,  1.2823,\n",
      "         -0.8635,  0.8209,  0.6115, -0.0844,  1.0429,  0.1637,  1.8383,  0.7106,\n",
      "         -0.9168, -0.9508, -1.3349,  1.0236, -0.1624, -1.2037,  2.3600,  1.0304,\n",
      "          0.1575,  1.6143,  0.6659,  0.4433,  0.0337, -0.1294, -1.1939, -0.5877,\n",
      "          0.5971, -1.4614,  1.0792,  0.5603, -0.7231, -0.6532, -0.6195, -1.7634,\n",
      "         -0.7872,  0.8483, -1.6737, -0.0305,  0.8714,  0.6904,  0.3672, -0.1827,\n",
      "          0.0712, -1.0495,  0.3318,  0.4687,  0.4112,  1.3365, -0.1203, -0.6268,\n",
      "          0.4227, -0.2346,  0.1326,  1.5071,  1.3701, -1.1230, -0.6243, -0.7362,\n",
      "         -0.9853, -0.1664, -0.3933, -0.3993, -1.9818, -1.7146, -0.6000, -0.5115,\n",
      "         -0.8001,  1.0438, -0.3586,  0.6155, -0.5728,  0.1502, -0.2063, -0.1812,\n",
      "         -1.4639, -0.1074, -0.5705,  1.3986, -0.0568, -0.5655, -0.2756,  1.0301,\n",
      "          1.6727, -0.0257,  0.9052,  0.3182,  2.0751, -1.2009,  0.3799, -0.0922]])\n",
      "tensor([[0.3796, 0.3380, 0.3159, 0.3736, 0.3743, 0.3789, 0.3425, 0.3526, 0.2824,\n",
      "         0.3228, 0.3555, 0.3089, 0.3332, 0.4174, 0.3844, 0.3598, 0.3192, 0.3540,\n",
      "         0.3465, 0.2591, 0.3462, 0.3313, 0.3434, 0.3135, 0.3789, 0.3514, 0.3401,\n",
      "         0.3255, 0.3845, 0.2674, 0.3290, 0.3421, 0.3314, 0.3261, 0.4057, 0.3112,\n",
      "         0.4185, 0.3703, 0.3366, 0.2714, 0.3434, 0.3355, 0.3146, 0.3087, 0.4077,\n",
      "         0.3049, 0.3606, 0.3285, 0.3379, 0.3910, 0.3394, 0.4718, 0.3013, 0.3743,\n",
      "         0.3453, 0.3264, 0.3961, 0.3160, 0.3578, 0.3427, 0.3213, 0.3110, 0.3168,\n",
      "         0.3383, 0.3762, 0.3155, 0.4013, 0.3670, 0.3577, 0.3557, 0.3161, 0.3371,\n",
      "         0.3060, 0.3556, 0.3275, 0.3681, 0.3880, 0.3844, 0.3746, 0.3760, 0.3736,\n",
      "         0.3319, 0.3076, 0.3475, 0.4104, 0.3415, 0.3409, 0.4103, 0.3007, 0.3771,\n",
      "         0.3213, 0.2947, 0.3478, 0.3408, 0.3528, 0.3824, 0.2965, 0.3508, 0.2978,\n",
      "         0.3569, 0.3341, 0.3402, 0.3802, 0.3650, 0.3505, 0.3445, 0.2502, 0.3444,\n",
      "         0.3293, 0.4749, 0.3873, 0.3098, 0.3782, 0.3570, 0.3676, 0.3621, 0.3540,\n",
      "         0.3257, 0.2926, 0.3329, 0.3606, 0.4051, 0.3188, 0.3377, 0.4269, 0.3830,\n",
      "         0.3799, 0.3184, 0.3427, 0.4055, 0.2736, 0.3123, 0.4003, 0.3603, 0.3760,\n",
      "         0.3914, 0.2894, 0.4191, 0.3271, 0.3081, 0.3617, 0.3258, 0.3928, 0.3925,\n",
      "         0.3057, 0.3584, 0.3710, 0.4187, 0.3979, 0.3090, 0.2743, 0.3384, 0.2755,\n",
      "         0.4145, 0.3031, 0.3912, 0.4476, 0.3589, 0.3099, 0.3342, 0.2981, 0.2982,\n",
      "         0.3020, 0.3241, 0.3794, 0.3468, 0.3078, 0.2853, 0.4297, 0.3313, 0.2820,\n",
      "         0.4295, 0.2938, 0.4644, 0.2846, 0.3217, 0.3107, 0.3338, 0.4053, 0.3129,\n",
      "         0.3215, 0.3395, 0.3624, 0.2980, 0.4560, 0.3890, 0.3390, 0.4108, 0.3392,\n",
      "         0.3870, 0.3245, 0.2769, 0.3302, 0.3914, 0.3641, 0.4496, 0.3492, 0.3367,\n",
      "         0.3507, 0.3653]])\n"
     ]
    }
   ],
   "source": [
    "# Using batch norm during inference of single examples requires you to compute the mean and std of the training set and add that in as a hardcoded parameter\n",
    "with torch.no_grad():\n",
    "    emb = C[train_X]\n",
    "    embcat = emb.view(emb.shape[0], -1)\n",
    "    hpreact = embcat @ W1 + b1\n",
    "    bnmean = hpreact.mean(0, keepdim=True)\n",
    "    print(bnmean)\n",
    "    bnstd = hpreact.std(0, keepdim=True)\n",
    "    print(bnstd)\n",
    "\n",
    "# We don't need to do this if we use bnmean_running and bnstd_running to compute the mean and std of the training set"
   ]
  },
  {
   "cell_type": "code",
   "execution_count": 29,
   "metadata": {},
   "outputs": [
    {
     "name": "stdout",
     "output_type": "stream",
     "text": [
      "train loss: 2.0186\n",
      "dev loss: 2.0711\n",
      "test loss: 2.0596\n"
     ]
    }
   ],
   "source": [
    "# Evaluation\n",
    "@torch.no_grad()\n",
    "def split_loss(split):\n",
    "    x,y = {\n",
    "        'train': (train_X, train_Y),\n",
    "        'dev': (dev_X, dev_Y),\n",
    "        'test': (test_X, test_Y),\n",
    "    }[split]\n",
    "    emb = C[x]\n",
    "    embcat = emb.view(emb.shape[0], -1)\n",
    "    hpreact = embcat @ W1 + b1\n",
    "    hpreact = bngain * (hpreact - bnmean_running) / bnstd_running + bnbias # batch norm\n",
    "\n",
    "    h = torch.tanh(hpreact)\n",
    "    logits = h @ W2 + b2\n",
    "    loss = F.cross_entropy(logits, y)\n",
    "    print(f'{split} loss: {loss.item():.4f}')\n",
    "split_loss('train')\n",
    "split_loss('dev')\n",
    "split_loss('test')"
   ]
  },
  {
   "attachments": {},
   "cell_type": "markdown",
   "metadata": {},
   "source": [
    "Test Loss to beat\n",
    "\n",
    "With BatchNorm:\n",
    "train loss: 2.0184\n",
    "dev loss: 2.0706\n",
    "test loss: 2.0592"
   ]
  },
  {
   "cell_type": "code",
   "execution_count": 18,
   "metadata": {},
   "outputs": [
    {
     "name": "stdout",
     "output_type": "stream",
     "text": [
      "caamaheaae.\n",
      "heel.\n",
      "kemle.\n",
      "eeety.\n",
      "eaaassae.\n",
      "eaheee.\n",
      "eeesaha.\n",
      "eaeei.\n",
      ".\n",
      "eemaea.\n",
      "ceeiiv.\n",
      "es.\n",
      "eeepe.\n",
      "am.\n",
      "eeay.\n",
      "eesa.\n",
      "es.\n",
      "oelea.\n",
      ".\n",
      "aebi.\n"
     ]
    }
   ],
   "source": [
    "# Sampling from model\n",
    "g = torch.Generator().manual_seed(2147483647 + 10)\n",
    "for _ in range(20):\n",
    "\n",
    "    out = []\n",
    "    context = [0] * block_size\n",
    "    while True:\n",
    "        emb = C[torch.tensor(context)]\n",
    "        h = torch.tanh(emb.view(1, -1) @ W1 + b1)\n",
    "        logits = h @ W2 + b2\n",
    "        probs = F.softmax(logits, dim=1)\n",
    "        ix = torch.multinomial(probs, num_samples=1, generator=g).item()\n",
    "        context = context[1:] + [ix]\n",
    "        out.append(ix)\n",
    "        if ix == 0:\n",
    "            break\n",
    "\n",
    "    print(''.join(itos[ix] for ix in out))"
   ]
  },
  {
   "cell_type": "code",
   "execution_count": 14,
   "metadata": {},
   "outputs": [
    {
     "name": "stdout",
     "output_type": "stream",
     "text": [
      "tensor(3.2958)\n"
     ]
    }
   ],
   "source": [
    "# Expected loss at initialisation assuming equal distribution\n",
    "loss = - torch.log(torch.tensor(1/27)) # probability of each character is 1/27 naively and this is how the loss should be calculated.\n",
    "print(loss)\n",
    "# Random initialisation of the network is leading to high loss. You can reduce the values of the weights of network at initialisation so the softmaxed outputs are less extreme."
   ]
  },
  {
   "cell_type": "code",
   "execution_count": null,
   "metadata": {},
   "outputs": [],
   "source": []
  }
 ],
 "metadata": {
  "kernelspec": {
   "display_name": "venv",
   "language": "python",
   "name": "python3"
  },
  "language_info": {
   "codemirror_mode": {
    "name": "ipython",
    "version": 3
   },
   "file_extension": ".py",
   "mimetype": "text/x-python",
   "name": "python",
   "nbconvert_exporter": "python",
   "pygments_lexer": "ipython3",
   "version": "3.8.16"
  },
  "orig_nbformat": 4
 },
 "nbformat": 4,
 "nbformat_minor": 2
}
